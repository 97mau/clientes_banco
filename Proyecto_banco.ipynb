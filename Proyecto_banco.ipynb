{
 "cells": [
  {
   "cell_type": "markdown",
   "metadata": {},
   "source": [
    "# Análisis del riesgo de incumplimiento de los prestatarios\n",
    "\n",
    "Tu proyecto consiste en preparar un informe para la división de préstamos de un banco. Deberás averiguar si el estado civil y el número de hijos de un cliente tienen un impacto en el incumplimiento de pago de un préstamo. El banco ya tiene algunos datos sobre la solvencia crediticia de los clientes.\n",
    "\n",
    "Tu informe se tendrá en cuenta al crear una **puntuación de crédito** para un cliente potencial. La **puntuación de crédito** se utiliza para evaluar la capacidad de un prestatario potencial para pagar su préstamo.\n",
    "\n",
    "[En este cuaderno se te brindan pistas, breves instrucciones y sugerencias para pensar. No los ignores, ya que están diseñados para equiparte con la estructura del proyecto y te ayudarán a analizar lo que estás haciendo en un nivel más profundo. Antes de enviar tu proyecto, asegúrate de eliminar todas las sugerencias y descripciones que se te hayan proporcionado. Más bien, haz que este informe parezca como si se lo estuvieras enviando a tus compañeros de equipo para demostrar tus hallazgos: ¡no deben saber que recibiste ayuda externa de nuestra parte! Para ayudarte, hemos colocado las pistas que debes eliminar entre corchetes.]\n",
    "\n",
    "[Antes de sumergirte en el análisis de tus datos, explica los propósitos del proyecto y las hipótesis que vas a evaluar.]"
   ]
  },
  {
   "cell_type": "markdown",
   "metadata": {},
   "source": [
    "## Información general. \n"
   ]
  },
  {
   "cell_type": "code",
   "execution_count": 187,
   "metadata": {},
   "outputs": [],
   "source": [
    "import pandas as pd\n",
    "\n",
    "import seaborn as sns\n",
    "\n",
    "import numpy as np\n",
    "\n",
    "import math\n",
    "\n",
    "import matplotlib.pyplot as plt"
   ]
  },
  {
   "cell_type": "code",
   "execution_count": 188,
   "metadata": {},
   "outputs": [
    {
     "name": "stdout",
     "output_type": "stream",
     "text": [
      "       children  days_employed  dob_years            education  education_id  \\\n",
      "0             1   -8437.673028         42    bachelor's degree             0   \n",
      "1             1   -4024.803754         36  secondary education             1   \n",
      "2             0   -5623.422610         33  Secondary Education             1   \n",
      "3             3   -4124.747207         32  secondary education             1   \n",
      "4             0  340266.072047         53  secondary education             1   \n",
      "...         ...            ...        ...                  ...           ...   \n",
      "21520         1   -4529.316663         43  secondary education             1   \n",
      "21521         0  343937.404131         67  secondary education             1   \n",
      "21522         1   -2113.346888         38  secondary education             1   \n",
      "21523         3   -3112.481705         38  secondary education             1   \n",
      "21524         2   -1984.507589         40  secondary education             1   \n",
      "\n",
      "           family_status  family_status_id gender income_type  debt  \\\n",
      "0                married                 0      F    employee     0   \n",
      "1                married                 0      F    employee     0   \n",
      "2                married                 0      M    employee     0   \n",
      "3                married                 0      M    employee     0   \n",
      "4      civil partnership                 1      F     retiree     0   \n",
      "...                  ...               ...    ...         ...   ...   \n",
      "21520  civil partnership                 1      F    business     0   \n",
      "21521            married                 0      F     retiree     0   \n",
      "21522  civil partnership                 1      M    employee     1   \n",
      "21523            married                 0      M    employee     1   \n",
      "21524            married                 0      F    employee     0   \n",
      "\n",
      "       total_income                  purpose  \n",
      "0         40620.102    purchase of the house  \n",
      "1         17932.802             car purchase  \n",
      "2         23341.752    purchase of the house  \n",
      "3         42820.568  supplementary education  \n",
      "4         25378.572        to have a wedding  \n",
      "...             ...                      ...  \n",
      "21520     35966.698     housing transactions  \n",
      "21521     24959.969        purchase of a car  \n",
      "21522     14347.610                 property  \n",
      "21523     39054.888        buying my own car  \n",
      "21524     13127.587             to buy a car  \n",
      "\n",
      "[21525 rows x 12 columns]\n"
     ]
    }
   ],
   "source": [
    "df = pd.read_csv(\"/datasets/credit_scoring_eng.csv\")\n",
    "print(df)"
   ]
  },
  {
   "cell_type": "markdown",
   "metadata": {},
   "source": [
    "## 1. Exploración de datos\n",
    "\n",
    "**Descripción de los datos**\n",
    "- `children` - el número de hijos en la familia\n",
    "- `days_employed` - experiencia laboral en días\n",
    "- `dob_years` - la edad del cliente en años\n",
    "- `education` - la educación del cliente\n",
    "- `education_id` - identificador de educación\n",
    "- `family_status` - estado civil\n",
    "- `family_status_id` - identificador de estado civil\n",
    "- `gender` - género del cliente\n",
    "- `income_type` - tipo de empleo\n",
    "- `debt` - ¿había alguna deuda en el pago de un préstamo?\n",
    "- `total_income` - ingreso mensual\n",
    "- `purpose` - el propósito de obtener un préstamo\n"
   ]
  },
  {
   "cell_type": "code",
   "execution_count": 189,
   "metadata": {},
   "outputs": [
    {
     "name": "stdout",
     "output_type": "stream",
     "text": [
      "<class 'pandas.core.frame.DataFrame'>\n",
      "RangeIndex: 21525 entries, 0 to 21524\n",
      "Data columns (total 12 columns):\n",
      " #   Column            Non-Null Count  Dtype  \n",
      "---  ------            --------------  -----  \n",
      " 0   children          21525 non-null  int64  \n",
      " 1   days_employed     19351 non-null  float64\n",
      " 2   dob_years         21525 non-null  int64  \n",
      " 3   education         21525 non-null  object \n",
      " 4   education_id      21525 non-null  int64  \n",
      " 5   family_status     21525 non-null  object \n",
      " 6   family_status_id  21525 non-null  int64  \n",
      " 7   gender            21525 non-null  object \n",
      " 8   income_type       21525 non-null  object \n",
      " 9   debt              21525 non-null  int64  \n",
      " 10  total_income      19351 non-null  float64\n",
      " 11  purpose           21525 non-null  object \n",
      "dtypes: float64(2), int64(5), object(5)\n",
      "memory usage: 2.0+ MB\n"
     ]
    }
   ],
   "source": [
    "# Vamos a ver cuántas filas y columnas tiene nuestro conjunto de datos\n",
    "\n",
    "df.info()"
   ]
  },
  {
   "cell_type": "code",
   "execution_count": 190,
   "metadata": {
    "scrolled": true
   },
   "outputs": [
    {
     "name": "stdout",
     "output_type": "stream",
     "text": [
      "       children  days_employed  dob_years            education  education_id  \\\n",
      "21495         1            NaN         50  secondary education             1   \n",
      "21496         1    -759.680851         31  secondary education             1   \n",
      "21497         0            NaN         48    BACHELOR'S DEGREE             0   \n",
      "21498         1   -1330.627998         32  secondary education             1   \n",
      "21499         0   -9929.015065         57  secondary education             1   \n",
      "21500         0    -578.082757         26         some college             2   \n",
      "21501         0  334343.096304         57  secondary education             1   \n",
      "21502         1            NaN         42  secondary education             1   \n",
      "21503         0   -3096.881131         58  secondary education             1   \n",
      "21504         0  355235.728158         68  secondary education             1   \n",
      "21505         0  338904.866406         53  secondary education             1   \n",
      "21506         1   -1556.249906         33    BACHELOR'S DEGREE             0   \n",
      "21507         1     -79.832064         32  secondary education             1   \n",
      "21508         0  386497.714078         62  secondary education             1   \n",
      "21509         0  362161.054124         59    bachelor's degree             0   \n",
      "21510         2            NaN         28  secondary education             1   \n",
      "21511         0    -612.569129         29    bachelor's degree             0   \n",
      "21512         0    -165.377752         26    bachelor's degree             0   \n",
      "21513         0   -1166.216789         35  secondary education             1   \n",
      "21514         0    -280.469996         27         some college             2   \n",
      "21515         1    -467.685130         28  secondary education             1   \n",
      "21516         0    -914.391429         42    bachelor's degree             0   \n",
      "21517         0    -404.679034         42    bachelor's degree             0   \n",
      "21518         0  373995.710838         59  SECONDARY EDUCATION             1   \n",
      "21519         1   -2351.431934         37      graduate degree             4   \n",
      "21520         1   -4529.316663         43  secondary education             1   \n",
      "21521         0  343937.404131         67  secondary education             1   \n",
      "21522         1   -2113.346888         38  secondary education             1   \n",
      "21523         3   -3112.481705         38  secondary education             1   \n",
      "21524         2   -1984.507589         40  secondary education             1   \n",
      "\n",
      "           family_status  family_status_id gender    income_type  debt  \\\n",
      "21495  civil partnership                 1      F       employee     0   \n",
      "21496            married                 0      F       employee     0   \n",
      "21497            married                 0      F       business     0   \n",
      "21498  civil partnership                 1      M       employee     0   \n",
      "21499  civil partnership                 1      M       business     0   \n",
      "21500          unmarried                 4      M       business     0   \n",
      "21501            married                 0      F        retiree     0   \n",
      "21502            married                 0      F       employee     0   \n",
      "21503            married                 0      F       employee     0   \n",
      "21504            married                 0      F        retiree     0   \n",
      "21505  civil partnership                 1      M        retiree     0   \n",
      "21506  civil partnership                 1      F       employee     0   \n",
      "21507  civil partnership                 1      F  civil servant     0   \n",
      "21508            married                 0      M        retiree     0   \n",
      "21509            married                 0      M        retiree     0   \n",
      "21510            married                 0      F       employee     0   \n",
      "21511  civil partnership                 1      F       employee     1   \n",
      "21512          unmarried                 4      M       business     0   \n",
      "21513            married                 0      F       employee     0   \n",
      "21514          unmarried                 4      M       business     0   \n",
      "21515            married                 0      F       employee     1   \n",
      "21516            married                 0      F       business     0   \n",
      "21517  civil partnership                 1      F       business     0   \n",
      "21518            married                 0      F        retiree     0   \n",
      "21519           divorced                 3      M       employee     0   \n",
      "21520  civil partnership                 1      F       business     0   \n",
      "21521            married                 0      F        retiree     0   \n",
      "21522  civil partnership                 1      M       employee     1   \n",
      "21523            married                 0      M       employee     1   \n",
      "21524            married                 0      F       employee     0   \n",
      "\n",
      "       total_income                                   purpose  \n",
      "21495           NaN                          wedding ceremony  \n",
      "21496     19102.819                              to buy a car  \n",
      "21497           NaN                       building a property  \n",
      "21498     38522.812                         to have a wedding  \n",
      "21499     25208.505                          wedding ceremony  \n",
      "21500     12450.127  transactions with commercial real estate  \n",
      "21501     13797.140                                   housing  \n",
      "21502           NaN                    building a real estate  \n",
      "21503     42280.160                        to become educated  \n",
      "21504     12890.611                   supplementary education  \n",
      "21505     12070.399                         to have a wedding  \n",
      "21506     23286.719                          wedding ceremony  \n",
      "21507     15708.845                  second-hand car purchase  \n",
      "21508     11622.175                                  property  \n",
      "21509     11684.650                  real estate transactions  \n",
      "21510           NaN                              car purchase  \n",
      "21511     22410.956           buying property for renting out  \n",
      "21512     23568.233          to get a supplementary education  \n",
      "21513     40157.783                     purchase of the house  \n",
      "21514     56958.145                       building a property  \n",
      "21515     17517.812                        to become educated  \n",
      "21516     51649.244                  purchase of my own house  \n",
      "21517     28489.529                         buying my own car  \n",
      "21518     24618.344                         purchase of a car  \n",
      "21519     18551.846                buy commercial real estate  \n",
      "21520     35966.698                      housing transactions  \n",
      "21521     24959.969                         purchase of a car  \n",
      "21522     14347.610                                  property  \n",
      "21523     39054.888                         buying my own car  \n",
      "21524     13127.587                              to buy a car  \n"
     ]
    }
   ],
   "source": [
    "# vamos a mostrar las primeras filas N\n",
    "print(df.tail(30))\n"
   ]
  },
  {
   "cell_type": "markdown",
   "metadata": {},
   "source": [
    "En esta sección hay datos ausentes dentro de la BBDD, duplicados, escritos de diferentes formas y  valores exagerados."
   ]
  },
  {
   "cell_type": "code",
   "execution_count": 191,
   "metadata": {
    "scrolled": false
   },
   "outputs": [
    {
     "data": {
      "text/plain": [
       "children                              1\n",
       "days_employed                       NaN\n",
       "dob_years                            50\n",
       "education           secondary education\n",
       "education_id                          1\n",
       "family_status         civil partnership\n",
       "family_status_id                      1\n",
       "gender                                F\n",
       "income_type                    employee\n",
       "debt                                  0\n",
       "total_income                        NaN\n",
       "purpose                wedding ceremony\n",
       "Name: 21495, dtype: object"
      ]
     },
     "execution_count": 191,
     "metadata": {},
     "output_type": "execute_result"
    }
   ],
   "source": [
    "df.iloc[21495]"
   ]
  },
  {
   "cell_type": "markdown",
   "metadata": {},
   "source": [
    "Como se logra observar la columna 12, cuenta con los datos datos ausentes, siendo simetricos. La tabla muestra datos nulos dentro de days_employed y total_income, aparte de simetricos.."
   ]
  },
  {
   "cell_type": "code",
   "execution_count": 192,
   "metadata": {},
   "outputs": [
    {
     "name": "stdout",
     "output_type": "stream",
     "text": [
      "children               0\n",
      "days_employed       2174\n",
      "dob_years              0\n",
      "education              0\n",
      "education_id           0\n",
      "family_status          0\n",
      "family_status_id       0\n",
      "gender                 0\n",
      "income_type            0\n",
      "debt                   0\n",
      "total_income        2174\n",
      "purpose                0\n",
      "dtype: int64\n"
     ]
    }
   ],
   "source": [
    "print(df.isna().sum())"
   ]
  },
  {
   "cell_type": "markdown",
   "metadata": {},
   "source": [
    "**Conclusión intermedia**\n",
    "\n"
   ]
  },
  {
   "cell_type": "code",
   "execution_count": 193,
   "metadata": {},
   "outputs": [
    {
     "data": {
      "text/plain": [
       "children             0.000000\n",
       "days_employed       10.099884\n",
       "dob_years            0.000000\n",
       "education            0.000000\n",
       "education_id         0.000000\n",
       "family_status        0.000000\n",
       "family_status_id     0.000000\n",
       "gender               0.000000\n",
       "income_type          0.000000\n",
       "debt                 0.000000\n",
       "total_income        10.099884\n",
       "purpose              0.000000\n",
       "dtype: float64"
      ]
     },
     "execution_count": 193,
     "metadata": {},
     "output_type": "execute_result"
    }
   ],
   "source": [
    "df. isnull (). sum () / len (df) * 100"
   ]
  },
  {
   "cell_type": "code",
   "execution_count": 194,
   "metadata": {},
   "outputs": [
    {
     "name": "stdout",
     "output_type": "stream",
     "text": [
      "Tasa de conversión de las filas que cuentan con NaN es de 10%\n"
     ]
    }
   ],
   "source": [
    "print(\"Tasa de conversión de las filas que cuentan con NaN es de 10%\")"
   ]
  },
  {
   "cell_type": "markdown",
   "metadata": {},
   "source": [
    "Los datos que faltan son los sueldos de estas personas, por lo que concluyo que con el sueldo con la mediana para estos datos ausentes sera el apropiado.\n",
    "\n",
    "La idea principal, es que cuentan con datos ausentes simetricos, por lo que debo cambiarlos, la pregunta es... ¿por cual dato debo cambiarlo?.\n",
    "\n",
    "Por lo que decidi utilizar la mediana según los datos que me entregue acontinuación."
   ]
  },
  {
   "cell_type": "markdown",
   "metadata": {},
   "source": [
    "En esta función muestra que las personas que se encuentran en secondary education junto con Bachelors Degree,\n",
    "cuenta con datos variados, letras grandes y pequeñas, aparte de repetidos."
   ]
  },
  {
   "cell_type": "code",
   "execution_count": 195,
   "metadata": {},
   "outputs": [
    {
     "data": {
      "text/plain": [
       "secondary education    13750\n",
       "bachelor's degree       4718\n",
       "SECONDARY EDUCATION      772\n",
       "Secondary Education      711\n",
       "some college             668\n",
       "BACHELOR'S DEGREE        274\n",
       "Bachelor's Degree        268\n",
       "primary education        250\n",
       "Some College              47\n",
       "SOME COLLEGE              29\n",
       "PRIMARY EDUCATION         17\n",
       "Primary Education         15\n",
       "graduate degree            4\n",
       "GRADUATE DEGREE            1\n",
       "Graduate Degree            1\n",
       "Name: education, dtype: int64"
      ]
     },
     "execution_count": 195,
     "metadata": {},
     "output_type": "execute_result"
    }
   ],
   "source": [
    "df[\"education\"].value_counts()"
   ]
  },
  {
   "cell_type": "markdown",
   "metadata": {},
   "source": [
    "Los datos cumplen con un patrón especifico, son 5 variables distintas que se repiten de diferentes formatos."
   ]
  },
  {
   "cell_type": "code",
   "execution_count": 196,
   "metadata": {
    "scrolled": true
   },
   "outputs": [
    {
     "name": "stdout",
     "output_type": "stream",
     "text": [
      "       children  days_employed  dob_years            education  education_id  \\\n",
      "2849          0            NaN         41  secondary education             1   \n",
      "4182          1            NaN         34    BACHELOR'S DEGREE             0   \n",
      "4851          0            NaN         60  secondary education             1   \n",
      "5557          0            NaN         58  secondary education             1   \n",
      "7808          0            NaN         57  secondary education             1   \n",
      "8583          0            NaN         58    bachelor's degree             0   \n",
      "9238          2            NaN         34  secondary education             1   \n",
      "9528          0            NaN         66  secondary education             1   \n",
      "9627          0            NaN         56  secondary education             1   \n",
      "10462         0            NaN         62  secondary education             1   \n",
      "10697         0            NaN         40  secondary education             1   \n",
      "10864         0            NaN         62  secondary education             1   \n",
      "10994         0            NaN         62  secondary education             1   \n",
      "11791         0            NaN         47  secondary education             1   \n",
      "12373         0            NaN         58  secondary education             1   \n",
      "12375         1            NaN         37  secondary education             1   \n",
      "12736         0            NaN         59  secondary education             1   \n",
      "13025         1            NaN         44  secondary education             1   \n",
      "13639         0            NaN         64  secondary education             1   \n",
      "13773         0            NaN         35  secondary education             1   \n",
      "13878         1            NaN         31  secondary education             1   \n",
      "13942         0            NaN         44  secondary education             1   \n",
      "14432         2            NaN         36    bachelor's degree             0   \n",
      "14832         0            NaN         50  secondary education             1   \n",
      "15091         0            NaN         58  secondary education             1   \n",
      "15188         0            NaN         60  secondary education             1   \n",
      "15273         0            NaN         57  secondary education             1   \n",
      "16176         0            NaN         47  secondary education             1   \n",
      "16378         0            NaN         46  secondary education             1   \n",
      "16902         2            NaN         39  secondary education             1   \n",
      "16904         1            NaN         32    bachelor's degree             0   \n",
      "17379         0            NaN         54    bachelor's degree             0   \n",
      "17755         1            NaN         43  secondary education             1   \n",
      "17774         1            NaN         40  secondary education             1   \n",
      "18328         0            NaN         29    bachelor's degree             0   \n",
      "18349         1            NaN         30    bachelor's degree             0   \n",
      "18428         0            NaN         64  secondary education             1   \n",
      "18521         0            NaN         56  secondary education             1   \n",
      "18563         0            NaN         54  secondary education             1   \n",
      "18755         0            NaN         58  secondary education             1   \n",
      "19041         0            NaN         56  secondary education             1   \n",
      "19184         0            NaN         46  secondary education             1   \n",
      "19321         0            NaN         23  secondary education             1   \n",
      "19387         0            NaN         38    bachelor's degree             0   \n",
      "19688         0            NaN         61  secondary education             1   \n",
      "19832         0            NaN         48  secondary education             1   \n",
      "19946         0            NaN         57  secondary education             1   \n",
      "20116         0            NaN         57  secondary education             1   \n",
      "20165         0            NaN         42  secondary education             1   \n",
      "20702         0            NaN         64  secondary education             1   \n",
      "21032         0            NaN         60  secondary education             1   \n",
      "21132         0            NaN         47  secondary education             1   \n",
      "21281         1            NaN         30    bachelor's degree             0   \n",
      "21415         0            NaN         54  secondary education             1   \n",
      "\n",
      "           family_status  family_status_id gender    income_type  debt  \\\n",
      "2849             married                 0      F       employee     0   \n",
      "4182   civil partnership                 1      F       employee     0   \n",
      "4851   civil partnership                 1      F        retiree     0   \n",
      "5557   civil partnership                 1      F        retiree     0   \n",
      "7808   civil partnership                 1      F        retiree     0   \n",
      "8583           unmarried                 4      F        retiree     0   \n",
      "9238             married                 0      F       employee     0   \n",
      "9528     widow / widower                 2      F        retiree     0   \n",
      "9627             married                 0      F        retiree     0   \n",
      "10462            married                 0      F        retiree     0   \n",
      "10697  civil partnership                 1      F       business     0   \n",
      "10864            married                 0      F        retiree     0   \n",
      "10994            married                 0      F        retiree     0   \n",
      "11791            married                 0      F       employee     0   \n",
      "12373            married                 0      M       employee     0   \n",
      "12375            married                 0      F       employee     0   \n",
      "12736            married                 0      F        retiree     0   \n",
      "13025            married                 0      F       employee     0   \n",
      "13639            married                 0      F        retiree     0   \n",
      "13773  civil partnership                 1      F       employee     0   \n",
      "13878            married                 0      F       business     0   \n",
      "13942            married                 0      F       employee     0   \n",
      "14432            married                 0      F  civil servant     0   \n",
      "14832          unmarried                 4      F       employee     0   \n",
      "15091  civil partnership                 1      M       employee     0   \n",
      "15188            married                 0      M       employee     0   \n",
      "15273  civil partnership                 1      F        retiree     0   \n",
      "16176            married                 0      F       employee     0   \n",
      "16378            married                 0      F       employee     0   \n",
      "16902  civil partnership                 1      F       employee     0   \n",
      "16904            married                 0      F       employee     0   \n",
      "17379            married                 0      M       business     0   \n",
      "17755            married                 0      M       employee     0   \n",
      "17774  civil partnership                 1      F       business     0   \n",
      "18328            married                 0      M       employee     0   \n",
      "18349            married                 0      F  civil servant     0   \n",
      "18428            married                 0      F        retiree     0   \n",
      "18521  civil partnership                 1      F       employee     0   \n",
      "18563            married                 0      F       employee     0   \n",
      "18755            married                 0      F        retiree     0   \n",
      "19041  civil partnership                 1      F       employee     0   \n",
      "19184            married                 0      F       employee     0   \n",
      "19321          unmarried                 4      F       employee     0   \n",
      "19387  civil partnership                 1      F       business     0   \n",
      "19688            married                 0      F        retiree     0   \n",
      "19832            married                 0      F       employee     0   \n",
      "19946            married                 0      F       employee     0   \n",
      "20116  civil partnership                 1      M        retiree     0   \n",
      "20165            married                 0      F       employee     0   \n",
      "20702            married                 0      F        retiree     0   \n",
      "21032            married                 0      F        retiree     0   \n",
      "21132            married                 0      F       employee     0   \n",
      "21281            married                 0      F       employee     0   \n",
      "21415            married                 0      F        retiree     0   \n",
      "\n",
      "       total_income                                   purpose  \n",
      "2849            NaN       purchase of the house for my family  \n",
      "4182            NaN                          wedding ceremony  \n",
      "4851            NaN                          wedding ceremony  \n",
      "5557            NaN                         to have a wedding  \n",
      "7808            NaN                          having a wedding  \n",
      "8583            NaN                   supplementary education  \n",
      "9238            NaN           buying property for renting out  \n",
      "9528            NaN          transactions with my real estate  \n",
      "9627            NaN          transactions with my real estate  \n",
      "10462           NaN                buy commercial real estate  \n",
      "10697           NaN                         to have a wedding  \n",
      "10864           NaN                        housing renovation  \n",
      "10994           NaN                        housing renovation  \n",
      "11791           NaN                       building a property  \n",
      "12373           NaN                           buy real estate  \n",
      "12375           NaN                           buy real estate  \n",
      "12736           NaN                        to become educated  \n",
      "13025           NaN                  second-hand car purchase  \n",
      "13639           NaN                                       car  \n",
      "13773           NaN                         to have a wedding  \n",
      "13878           NaN                     purchase of the house  \n",
      "13942           NaN                              car purchase  \n",
      "14432           NaN                      getting an education  \n",
      "14832           NaN                                  property  \n",
      "15091           NaN                          having a wedding  \n",
      "15188           NaN                           buy real estate  \n",
      "15273           NaN                          wedding ceremony  \n",
      "16176           NaN                        housing renovation  \n",
      "16378           NaN                      university education  \n",
      "16902           NaN                         to have a wedding  \n",
      "16904           NaN                  buying a second-hand car  \n",
      "17379           NaN  transactions with commercial real estate  \n",
      "17755           NaN                        to become educated  \n",
      "17774           NaN                    building a real estate  \n",
      "18328           NaN               buy residential real estate  \n",
      "18349           NaN       purchase of the house for my family  \n",
      "18428           NaN                                   housing  \n",
      "18521           NaN                         to have a wedding  \n",
      "18563           NaN          transactions with my real estate  \n",
      "18755           NaN                        to become educated  \n",
      "19041           NaN                          having a wedding  \n",
      "19184           NaN                              to own a car  \n",
      "19321           NaN                  second-hand car purchase  \n",
      "19387           NaN                          having a wedding  \n",
      "19688           NaN                  real estate transactions  \n",
      "19832           NaN                        housing renovation  \n",
      "19946           NaN                  second-hand car purchase  \n",
      "20116           NaN                          wedding ceremony  \n",
      "20165           NaN       purchase of the house for my family  \n",
      "20702           NaN                   supplementary education  \n",
      "21032           NaN                        to become educated  \n",
      "21132           NaN                        housing renovation  \n",
      "21281           NaN                buy commercial real estate  \n",
      "21415           NaN                      housing transactions  \n",
      "\n",
      "54\n"
     ]
    }
   ],
   "source": [
    "print(df[df.duplicated()])\n",
    "print()\n",
    "print(df.duplicated().sum())"
   ]
  },
  {
   "cell_type": "markdown",
   "metadata": {},
   "source": [
    "**Conclusiones**\n",
    "\n",
    "El paso siguiente a realizar es ordenar los datos para su corrección."
   ]
  },
  {
   "cell_type": "markdown",
   "metadata": {},
   "source": [
    "## Transformación de datos\n"
   ]
  },
  {
   "cell_type": "code",
   "execution_count": 197,
   "metadata": {},
   "outputs": [
    {
     "name": "stdout",
     "output_type": "stream",
     "text": [
      "secondary education    13750\n",
      "bachelor's degree       4718\n",
      "SECONDARY EDUCATION      772\n",
      "Secondary Education      711\n",
      "some college             668\n",
      "BACHELOR'S DEGREE        274\n",
      "Bachelor's Degree        268\n",
      "primary education        250\n",
      "Some College              47\n",
      "SOME COLLEGE              29\n",
      "PRIMARY EDUCATION         17\n",
      "Primary Education         15\n",
      "graduate degree            4\n",
      "GRADUATE DEGREE            1\n",
      "Graduate Degree            1\n",
      "Name: education, dtype: int64\n"
     ]
    }
   ],
   "source": [
    "# Veamos todos los valores en la columna de educación para verificar si será necesario corregir la ortografía y qué habrá que corregir exactamente\n",
    "print(df['education'].value_counts())"
   ]
  },
  {
   "cell_type": "code",
   "execution_count": 198,
   "metadata": {
    "scrolled": true
   },
   "outputs": [],
   "source": [
    "df[\"education\"] = df[\"education\"].str.lower()"
   ]
  },
  {
   "cell_type": "code",
   "execution_count": 199,
   "metadata": {},
   "outputs": [
    {
     "name": "stdout",
     "output_type": "stream",
     "text": [
      "secondary education    15233\n",
      "bachelor's degree       5260\n",
      "some college             744\n",
      "primary education        282\n",
      "graduate degree            6\n",
      "Name: education, dtype: int64\n"
     ]
    }
   ],
   "source": [
    "print(df['education'].value_counts())"
   ]
  },
  {
   "cell_type": "code",
   "execution_count": 200,
   "metadata": {},
   "outputs": [
    {
     "name": "stdout",
     "output_type": "stream",
     "text": [
      " 0     14149\n",
      " 1      4818\n",
      " 2      2055\n",
      " 3       330\n",
      " 20       76\n",
      "-1        47\n",
      " 4        41\n",
      " 5         9\n",
      "Name: children, dtype: int64\n"
     ]
    }
   ],
   "source": [
    "print(df['children'].value_counts())"
   ]
  },
  {
   "cell_type": "code",
   "execution_count": 201,
   "metadata": {},
   "outputs": [
    {
     "name": "stdout",
     "output_type": "stream",
     "text": [
      "children    0.571429\n",
      "dtype: float64\n"
     ]
    }
   ],
   "source": [
    "childen_sum = df[['children']].count()\n",
    "print((123 / childen_sum)*100)\n",
    "\n"
   ]
  },
  {
   "cell_type": "markdown",
   "metadata": {},
   "source": [
    "El porcentaje de estos datos problematicos son del 0,57%. \n",
    "Lo más probable es que \"20\" son datos mal digitados y \"-1\" deben ser madres o padres que perdieron hij@s o simplemente mal digitados. Por lo que, el dato 20 se cambia a 2 y -1 a 1."
   ]
  },
  {
   "cell_type": "code",
   "execution_count": 202,
   "metadata": {},
   "outputs": [
    {
     "name": "stdout",
     "output_type": "stream",
     "text": [
      "0    14149\n",
      "1     4865\n",
      "2     2131\n",
      "3      330\n",
      "4       41\n",
      "5        9\n",
      "Name: children, dtype: int64\n"
     ]
    }
   ],
   "source": [
    "df = df.replace([20, -1], [2, 1])\n",
    "print(df['children'].value_counts())\n"
   ]
  },
  {
   "cell_type": "code",
   "execution_count": 203,
   "metadata": {},
   "outputs": [
    {
     "name": "stdout",
     "output_type": "stream",
     "text": [
      "       children  days_employed  dob_years            education  education_id  \\\n",
      "0             1   -8437.673028         42    bachelor's degree             0   \n",
      "1             1   -4024.803754         36  secondary education             1   \n",
      "2             0   -5623.422610         33  secondary education             1   \n",
      "3             3   -4124.747207         32  secondary education             1   \n",
      "5             0    -926.185831         27    bachelor's degree             0   \n",
      "...         ...            ...        ...                  ...           ...   \n",
      "21519         1   -2351.431934         37      graduate degree             4   \n",
      "21520         1   -4529.316663         43  secondary education             1   \n",
      "21522         1   -2113.346888         38  secondary education             1   \n",
      "21523         3   -3112.481705         38  secondary education             1   \n",
      "21524         2   -1984.507589         40  secondary education             1   \n",
      "\n",
      "           family_status  family_status_id gender income_type  debt  \\\n",
      "0                married                 0      F    employee     0   \n",
      "1                married                 0      F    employee     0   \n",
      "2                married                 0      M    employee     0   \n",
      "3                married                 0      M    employee     0   \n",
      "5      civil partnership                 1      M    business     0   \n",
      "...                  ...               ...    ...         ...   ...   \n",
      "21519           divorced                 3      M    employee     0   \n",
      "21520  civil partnership                 1      F    business     0   \n",
      "21522  civil partnership                 1      M    employee     1   \n",
      "21523            married                 0      M    employee     1   \n",
      "21524            married                 0      F    employee     0   \n",
      "\n",
      "       total_income                     purpose  \n",
      "0         40620.102       purchase of the house  \n",
      "1         17932.802                car purchase  \n",
      "2         23341.752       purchase of the house  \n",
      "3         42820.568     supplementary education  \n",
      "5         40922.170       purchase of the house  \n",
      "...             ...                         ...  \n",
      "21519     18551.846  buy commercial real estate  \n",
      "21520     35966.698        housing transactions  \n",
      "21522     14347.610                    property  \n",
      "21523     39054.888           buying my own car  \n",
      "21524     13127.587                to buy a car  \n",
      "\n",
      "[15906 rows x 12 columns]\n",
      "\n",
      "73.89547038327527\n"
     ]
    }
   ],
   "source": [
    "print(df[df['days_employed'].between(-1000000, 0)])\n",
    "print()\n",
    "print((15906 / 21525)*100)"
   ]
  },
  {
   "cell_type": "markdown",
   "metadata": {},
   "source": [
    "El 73% de los datos tienen días en negativo"
   ]
  },
  {
   "cell_type": "code",
   "execution_count": 204,
   "metadata": {},
   "outputs": [],
   "source": [
    "df['days_employed'] = df['days_employed'].abs()"
   ]
  },
  {
   "cell_type": "markdown",
   "metadata": {},
   "source": [
    "Para realizar days_employed, busco los datos atipicos."
   ]
  },
  {
   "cell_type": "code",
   "execution_count": 205,
   "metadata": {},
   "outputs": [
    {
     "name": "stdout",
     "output_type": "stream",
     "text": [
      "count     19351.000000\n",
      "mean      66914.728907\n",
      "std      139030.880527\n",
      "min          24.141633\n",
      "25%         927.009265\n",
      "50%        2194.220567\n",
      "75%        5537.882441\n",
      "max      401755.400475\n",
      "Name: days_employed, dtype: float64\n"
     ]
    }
   ],
   "source": [
    "print(df['days_employed'].describe())"
   ]
  },
  {
   "cell_type": "markdown",
   "metadata": {},
   "source": [
    "Estos datos resultan exaltados."
   ]
  },
  {
   "cell_type": "code",
   "execution_count": 206,
   "metadata": {},
   "outputs": [
    {
     "name": "stdout",
     "output_type": "stream",
     "text": [
      "0          8437.673028\n",
      "1          4024.803754\n",
      "2          5623.422610\n",
      "3          4124.747207\n",
      "4        340266.072047\n",
      "             ...      \n",
      "21520      4529.316663\n",
      "21521    343937.404131\n",
      "21522      2113.346888\n",
      "21523      3112.481705\n",
      "21524      1984.507589\n",
      "Name: days_employed, Length: 21525, dtype: float64\n"
     ]
    }
   ],
   "source": [
    "print(df['days_employed'])"
   ]
  },
  {
   "cell_type": "code",
   "execution_count": 207,
   "metadata": {},
   "outputs": [
    {
     "data": {
      "image/png": "[encoded data removed]",
      "text/plain": [
       "<Figure size 432x288 with 1 Axes>"
      ]
     },
     "metadata": {
      "needs_background": "light"
     },
     "output_type": "display_data"
    }
   ],
   "source": [
    "plt.title(\"Days\")\n",
    "plt.hist(df[\"days_employed\"], edgecolor = \"black\", linewidth=1)\n",
    "plt.show()"
   ]
  },
  {
   "cell_type": "markdown",
   "metadata": {},
   "source": [
    "Este es el motivo por el que los datos estan mal ingresados."
   ]
  },
  {
   "cell_type": "code",
   "execution_count": 208,
   "metadata": {},
   "outputs": [
    {
     "name": "stderr",
     "output_type": "stream",
     "text": [
      "/opt/conda/lib/python3.9/site-packages/seaborn/_decorators.py:36: FutureWarning: Pass the following variable as a keyword arg: x. From version 0.12, the only valid positional argument will be `data`, and passing other arguments without an explicit keyword will result in an error or misinterpretation.\n",
      "  warnings.warn(\n"
     ]
    },
    {
     "data": {
      "text/plain": [
       "<AxesSubplot:xlabel='days_employed'>"
      ]
     },
     "execution_count": 208,
     "metadata": {},
     "output_type": "execute_result"
    },
    {
     "data": {
      "image/png": "[encoded data removed]",
      "text/plain": [
       "<Figure size 432x288 with 1 Axes>"
      ]
     },
     "metadata": {
      "needs_background": "light"
     },
     "output_type": "display_data"
    }
   ],
   "source": [
    "\n",
    "sns.boxplot(df[\"days_employed\"])"
   ]
  },
  {
   "cell_type": "markdown",
   "metadata": {},
   "source": [
    "Datos que se encuentran fuera de los rangos de los dias trabajados."
   ]
  },
  {
   "cell_type": "code",
   "execution_count": 209,
   "metadata": {},
   "outputs": [
    {
     "name": "stdout",
     "output_type": "stream",
     "text": [
      "\n",
      " Ubicación de days_employed \n",
      " 0        False\n",
      "1        False\n",
      "2        False\n",
      "3        False\n",
      "4         True\n",
      "         ...  \n",
      "21520    False\n",
      "21521     True\n",
      "21522    False\n",
      "21523    False\n",
      "21524    False\n",
      "Name: days_employed, Length: 21525, dtype: bool\n"
     ]
    }
   ],
   "source": [
    "ub_days = (df[\"days_employed\"] > 50000)\n",
    "print(\"\\n Ubicación de days_employed \\n\", ub_days)"
   ]
  },
  {
   "cell_type": "markdown",
   "metadata": {},
   "source": [
    "Se concluye que el valor de 50000 es el más optimo para continuar, debido a esto se podra desarrollar la columna days_employed de una manera eficiente."
   ]
  },
  {
   "cell_type": "code",
   "execution_count": 210,
   "metadata": {},
   "outputs": [
    {
     "name": "stdout",
     "output_type": "stream",
     "text": [
      "\n",
      " Lista Outliers \n",
      "        children  days_employed  dob_years            education  education_id  \\\n",
      "4             0  340266.072047         53  secondary education             1   \n",
      "18            0  400281.136913         53  secondary education             1   \n",
      "24            1  338551.952911         57  secondary education             1   \n",
      "25            0  363548.489348         67  secondary education             1   \n",
      "30            1  335581.668515         62  secondary education             1   \n",
      "...         ...            ...        ...                  ...           ...   \n",
      "21505         0  338904.866406         53  secondary education             1   \n",
      "21508         0  386497.714078         62  secondary education             1   \n",
      "21509         0  362161.054124         59    bachelor's degree             0   \n",
      "21518         0  373995.710838         59  secondary education             1   \n",
      "21521         0  343937.404131         67  secondary education             1   \n",
      "\n",
      "           family_status  family_status_id gender income_type  debt  \\\n",
      "4      civil partnership                 1      F     retiree     0   \n",
      "18       widow / widower                 2      F     retiree     0   \n",
      "24             unmarried                 4      F     retiree     0   \n",
      "25               married                 0      M     retiree     0   \n",
      "30               married                 0      F     retiree     0   \n",
      "...                  ...               ...    ...         ...   ...   \n",
      "21505  civil partnership                 1      M     retiree     0   \n",
      "21508            married                 0      M     retiree     0   \n",
      "21509            married                 0      M     retiree     0   \n",
      "21518            married                 0      F     retiree     0   \n",
      "21521            married                 0      F     retiree     0   \n",
      "\n",
      "       total_income                                   purpose  \n",
      "4         25378.572                         to have a wedding  \n",
      "18         9091.804                  buying a second-hand car  \n",
      "24        46487.558  transactions with commercial real estate  \n",
      "25         8818.041                           buy real estate  \n",
      "30        27432.971  transactions with commercial real estate  \n",
      "...             ...                                       ...  \n",
      "21505     12070.399                         to have a wedding  \n",
      "21508     11622.175                                  property  \n",
      "21509     11684.650                  real estate transactions  \n",
      "21518     24618.344                         purchase of a car  \n",
      "21521     24959.969                         purchase of a car  \n",
      "\n",
      "[3445 rows x 12 columns]\n"
     ]
    }
   ],
   "source": [
    "out_days = df[ub_days]\n",
    "print(\"\\n Lista Outliers \\n\", out_days)"
   ]
  },
  {
   "cell_type": "markdown",
   "metadata": {},
   "source": [
    "Estos datos son sumamente altos, por lo que, se procede a depurarlos."
   ]
  },
  {
   "cell_type": "code",
   "execution_count": 211,
   "metadata": {
    "scrolled": true
   },
   "outputs": [
    {
     "data": {
      "text/html": [
       "<div>\n",
       "<style scoped>\n",
       "    .dataframe tbody tr th:only-of-type {\n",
       "        vertical-align: middle;\n",
       "    }\n",
       "\n",
       "    .dataframe tbody tr th {\n",
       "        vertical-align: top;\n",
       "    }\n",
       "\n",
       "    .dataframe thead th {\n",
       "        text-align: right;\n",
       "    }\n",
       "</style>\n",
       "<table border=\"1\" class=\"dataframe\">\n",
       "  <thead>\n",
       "    <tr style=\"text-align: right;\">\n",
       "      <th></th>\n",
       "      <th>children</th>\n",
       "      <th>days_employed</th>\n",
       "      <th>dob_years</th>\n",
       "      <th>education</th>\n",
       "      <th>education_id</th>\n",
       "      <th>family_status</th>\n",
       "      <th>family_status_id</th>\n",
       "      <th>gender</th>\n",
       "      <th>income_type</th>\n",
       "      <th>debt</th>\n",
       "      <th>total_income</th>\n",
       "      <th>purpose</th>\n",
       "    </tr>\n",
       "  </thead>\n",
       "  <tbody>\n",
       "    <tr>\n",
       "      <th>20444</th>\n",
       "      <td>0</td>\n",
       "      <td>328728.720605</td>\n",
       "      <td>72</td>\n",
       "      <td>secondary education</td>\n",
       "      <td>1</td>\n",
       "      <td>widow / widower</td>\n",
       "      <td>2</td>\n",
       "      <td>F</td>\n",
       "      <td>retiree</td>\n",
       "      <td>0</td>\n",
       "      <td>15443.094</td>\n",
       "      <td>purchase of the house for my family</td>\n",
       "    </tr>\n",
       "    <tr>\n",
       "      <th>9328</th>\n",
       "      <td>2</td>\n",
       "      <td>328734.923996</td>\n",
       "      <td>41</td>\n",
       "      <td>bachelor's degree</td>\n",
       "      <td>0</td>\n",
       "      <td>married</td>\n",
       "      <td>0</td>\n",
       "      <td>M</td>\n",
       "      <td>retiree</td>\n",
       "      <td>0</td>\n",
       "      <td>20319.600</td>\n",
       "      <td>transactions with my real estate</td>\n",
       "    </tr>\n",
       "    <tr>\n",
       "      <th>17782</th>\n",
       "      <td>0</td>\n",
       "      <td>328771.341387</td>\n",
       "      <td>56</td>\n",
       "      <td>secondary education</td>\n",
       "      <td>1</td>\n",
       "      <td>married</td>\n",
       "      <td>0</td>\n",
       "      <td>F</td>\n",
       "      <td>retiree</td>\n",
       "      <td>0</td>\n",
       "      <td>10983.688</td>\n",
       "      <td>transactions with commercial real estate</td>\n",
       "    </tr>\n",
       "    <tr>\n",
       "      <th>14783</th>\n",
       "      <td>0</td>\n",
       "      <td>328795.726728</td>\n",
       "      <td>62</td>\n",
       "      <td>bachelor's degree</td>\n",
       "      <td>0</td>\n",
       "      <td>married</td>\n",
       "      <td>0</td>\n",
       "      <td>F</td>\n",
       "      <td>retiree</td>\n",
       "      <td>0</td>\n",
       "      <td>12790.431</td>\n",
       "      <td>buying my own car</td>\n",
       "    </tr>\n",
       "    <tr>\n",
       "      <th>7229</th>\n",
       "      <td>1</td>\n",
       "      <td>328827.345667</td>\n",
       "      <td>32</td>\n",
       "      <td>secondary education</td>\n",
       "      <td>1</td>\n",
       "      <td>civil partnership</td>\n",
       "      <td>1</td>\n",
       "      <td>F</td>\n",
       "      <td>retiree</td>\n",
       "      <td>0</td>\n",
       "      <td>19546.075</td>\n",
       "      <td>to have a wedding</td>\n",
       "    </tr>\n",
       "    <tr>\n",
       "      <th>...</th>\n",
       "      <td>...</td>\n",
       "      <td>...</td>\n",
       "      <td>...</td>\n",
       "      <td>...</td>\n",
       "      <td>...</td>\n",
       "      <td>...</td>\n",
       "      <td>...</td>\n",
       "      <td>...</td>\n",
       "      <td>...</td>\n",
       "      <td>...</td>\n",
       "      <td>...</td>\n",
       "      <td>...</td>\n",
       "    </tr>\n",
       "    <tr>\n",
       "      <th>7794</th>\n",
       "      <td>0</td>\n",
       "      <td>401663.850046</td>\n",
       "      <td>61</td>\n",
       "      <td>secondary education</td>\n",
       "      <td>1</td>\n",
       "      <td>civil partnership</td>\n",
       "      <td>1</td>\n",
       "      <td>F</td>\n",
       "      <td>retiree</td>\n",
       "      <td>0</td>\n",
       "      <td>7725.831</td>\n",
       "      <td>wedding ceremony</td>\n",
       "    </tr>\n",
       "    <tr>\n",
       "      <th>2156</th>\n",
       "      <td>0</td>\n",
       "      <td>401674.466633</td>\n",
       "      <td>60</td>\n",
       "      <td>secondary education</td>\n",
       "      <td>1</td>\n",
       "      <td>married</td>\n",
       "      <td>0</td>\n",
       "      <td>M</td>\n",
       "      <td>retiree</td>\n",
       "      <td>0</td>\n",
       "      <td>52063.316</td>\n",
       "      <td>cars</td>\n",
       "    </tr>\n",
       "    <tr>\n",
       "      <th>7664</th>\n",
       "      <td>1</td>\n",
       "      <td>401675.093434</td>\n",
       "      <td>61</td>\n",
       "      <td>secondary education</td>\n",
       "      <td>1</td>\n",
       "      <td>married</td>\n",
       "      <td>0</td>\n",
       "      <td>F</td>\n",
       "      <td>retiree</td>\n",
       "      <td>0</td>\n",
       "      <td>20194.323</td>\n",
       "      <td>housing transactions</td>\n",
       "    </tr>\n",
       "    <tr>\n",
       "      <th>10006</th>\n",
       "      <td>0</td>\n",
       "      <td>401715.811749</td>\n",
       "      <td>69</td>\n",
       "      <td>bachelor's degree</td>\n",
       "      <td>0</td>\n",
       "      <td>unmarried</td>\n",
       "      <td>4</td>\n",
       "      <td>F</td>\n",
       "      <td>retiree</td>\n",
       "      <td>0</td>\n",
       "      <td>9182.441</td>\n",
       "      <td>getting an education</td>\n",
       "    </tr>\n",
       "    <tr>\n",
       "      <th>6954</th>\n",
       "      <td>0</td>\n",
       "      <td>401755.400475</td>\n",
       "      <td>56</td>\n",
       "      <td>secondary education</td>\n",
       "      <td>1</td>\n",
       "      <td>widow / widower</td>\n",
       "      <td>2</td>\n",
       "      <td>F</td>\n",
       "      <td>retiree</td>\n",
       "      <td>0</td>\n",
       "      <td>28204.551</td>\n",
       "      <td>housing renovation</td>\n",
       "    </tr>\n",
       "  </tbody>\n",
       "</table>\n",
       "<p>3445 rows × 12 columns</p>\n",
       "</div>"
      ],
      "text/plain": [
       "       children  days_employed  dob_years            education  education_id  \\\n",
       "20444         0  328728.720605         72  secondary education             1   \n",
       "9328          2  328734.923996         41    bachelor's degree             0   \n",
       "17782         0  328771.341387         56  secondary education             1   \n",
       "14783         0  328795.726728         62    bachelor's degree             0   \n",
       "7229          1  328827.345667         32  secondary education             1   \n",
       "...         ...            ...        ...                  ...           ...   \n",
       "7794          0  401663.850046         61  secondary education             1   \n",
       "2156          0  401674.466633         60  secondary education             1   \n",
       "7664          1  401675.093434         61  secondary education             1   \n",
       "10006         0  401715.811749         69    bachelor's degree             0   \n",
       "6954          0  401755.400475         56  secondary education             1   \n",
       "\n",
       "           family_status  family_status_id gender income_type  debt  \\\n",
       "20444    widow / widower                 2      F     retiree     0   \n",
       "9328             married                 0      M     retiree     0   \n",
       "17782            married                 0      F     retiree     0   \n",
       "14783            married                 0      F     retiree     0   \n",
       "7229   civil partnership                 1      F     retiree     0   \n",
       "...                  ...               ...    ...         ...   ...   \n",
       "7794   civil partnership                 1      F     retiree     0   \n",
       "2156             married                 0      M     retiree     0   \n",
       "7664             married                 0      F     retiree     0   \n",
       "10006          unmarried                 4      F     retiree     0   \n",
       "6954     widow / widower                 2      F     retiree     0   \n",
       "\n",
       "       total_income                                   purpose  \n",
       "20444     15443.094       purchase of the house for my family  \n",
       "9328      20319.600          transactions with my real estate  \n",
       "17782     10983.688  transactions with commercial real estate  \n",
       "14783     12790.431                         buying my own car  \n",
       "7229      19546.075                         to have a wedding  \n",
       "...             ...                                       ...  \n",
       "7794       7725.831                          wedding ceremony  \n",
       "2156      52063.316                                      cars  \n",
       "7664      20194.323                      housing transactions  \n",
       "10006      9182.441                      getting an education  \n",
       "6954      28204.551                        housing renovation  \n",
       "\n",
       "[3445 rows x 12 columns]"
      ]
     },
     "execution_count": 211,
     "metadata": {},
     "output_type": "execute_result"
    }
   ],
   "source": [
    "out_orden = out_days.sort_values(\"days_employed\")\n",
    "out_orden"
   ]
  },
  {
   "cell_type": "code",
   "execution_count": 212,
   "metadata": {},
   "outputs": [
    {
     "data": {
      "image/png": "[encoded data removed]",
      "text/plain": [
       "<Figure size 432x288 with 1 Axes>"
      ]
     },
     "metadata": {
      "needs_background": "light"
     },
     "output_type": "display_data"
    }
   ],
   "source": [
    "plt.title(\"out\")\n",
    "plt.boxplot(out_orden[\"days_employed\"], vert=False)\n",
    "plt.show()"
   ]
  },
  {
   "cell_type": "code",
   "execution_count": 213,
   "metadata": {},
   "outputs": [
    {
     "name": "stdout",
     "output_type": "stream",
     "text": [
      "       children  days_employed  dob_years            education  education_id  \\\n",
      "0             1    8437.673028         42    bachelor's degree             0   \n",
      "1             1    4024.803754         36  secondary education             1   \n",
      "2             0    5623.422610         33  secondary education             1   \n",
      "3             3    4124.747207         32  secondary education             1   \n",
      "4             0            NaN         53  secondary education             1   \n",
      "...         ...            ...        ...                  ...           ...   \n",
      "21520         1    4529.316663         43  secondary education             1   \n",
      "21521         0            NaN         67  secondary education             1   \n",
      "21522         1    2113.346888         38  secondary education             1   \n",
      "21523         3    3112.481705         38  secondary education             1   \n",
      "21524         2    1984.507589         40  secondary education             1   \n",
      "\n",
      "           family_status  family_status_id gender income_type  debt  \\\n",
      "0                married                 0      F    employee     0   \n",
      "1                married                 0      F    employee     0   \n",
      "2                married                 0      M    employee     0   \n",
      "3                married                 0      M    employee     0   \n",
      "4      civil partnership                 1      F     retiree     0   \n",
      "...                  ...               ...    ...         ...   ...   \n",
      "21520  civil partnership                 1      F    business     0   \n",
      "21521            married                 0      F     retiree     0   \n",
      "21522  civil partnership                 1      M    employee     1   \n",
      "21523            married                 0      M    employee     1   \n",
      "21524            married                 0      F    employee     0   \n",
      "\n",
      "       total_income                  purpose  \n",
      "0         40620.102    purchase of the house  \n",
      "1         17932.802             car purchase  \n",
      "2         23341.752    purchase of the house  \n",
      "3         42820.568  supplementary education  \n",
      "4         25378.572        to have a wedding  \n",
      "...             ...                      ...  \n",
      "21520     35966.698     housing transactions  \n",
      "21521     24959.969        purchase of a car  \n",
      "21522     14347.610                 property  \n",
      "21523     39054.888        buying my own car  \n",
      "21524     13127.587             to buy a car  \n",
      "\n",
      "[21525 rows x 12 columns]\n"
     ]
    }
   ],
   "source": [
    "lower_bound = 330000\n",
    "upper_bound = 400000\n",
    "\n",
    "df[\"days_employed\"] = df[\"days_employed\"].mask(df[\"days_employed\"].between(lower_bound, upper_bound), np.nan)\n",
    "print(df)"
   ]
  },
  {
   "cell_type": "markdown",
   "metadata": {},
   "source": [
    "Al realizar la función se modifican los datos, y pasan a NaN para no desordenar la columna days_employed."
   ]
  },
  {
   "cell_type": "code",
   "execution_count": 214,
   "metadata": {
    "scrolled": true
   },
   "outputs": [
    {
     "name": "stdout",
     "output_type": "stream",
     "text": [
      "35    617\n",
      "40    609\n",
      "41    607\n",
      "34    603\n",
      "38    598\n",
      "42    597\n",
      "33    581\n",
      "39    573\n",
      "31    560\n",
      "36    555\n",
      "44    547\n",
      "29    545\n",
      "30    540\n",
      "48    538\n",
      "37    537\n",
      "50    514\n",
      "43    513\n",
      "32    510\n",
      "49    508\n",
      "28    503\n",
      "45    497\n",
      "27    493\n",
      "56    487\n",
      "52    484\n",
      "47    480\n",
      "54    479\n",
      "46    475\n",
      "58    461\n",
      "57    460\n",
      "53    459\n",
      "51    448\n",
      "59    444\n",
      "55    443\n",
      "26    408\n",
      "60    377\n",
      "25    357\n",
      "61    355\n",
      "62    352\n",
      "63    269\n",
      "64    265\n",
      "24    264\n",
      "23    254\n",
      "65    194\n",
      "66    183\n",
      "22    183\n",
      "67    167\n",
      "21    111\n",
      "0     101\n",
      "68     99\n",
      "69     85\n",
      "70     65\n",
      "71     58\n",
      "2      51\n",
      "72     33\n",
      "19     14\n",
      "73      8\n",
      "74      6\n",
      "75      1\n",
      "Name: dob_years, dtype: int64\n"
     ]
    }
   ],
   "source": [
    "print(df['dob_years'].value_counts())"
   ]
  },
  {
   "cell_type": "code",
   "execution_count": 215,
   "metadata": {},
   "outputs": [],
   "source": [
    "df = df[df['dob_years'] != 0]"
   ]
  },
  {
   "cell_type": "code",
   "execution_count": 216,
   "metadata": {},
   "outputs": [],
   "source": [
    "df = df[df['dob_years'] != 2]"
   ]
  },
  {
   "cell_type": "markdown",
   "metadata": {},
   "source": [
    "Al revisar los datos entregados por la columna \"dob_years\" me percate que hay una fila que tiene 101 usuarios con la edad 0, por lo que se eliminaran."
   ]
  },
  {
   "cell_type": "code",
   "execution_count": 217,
   "metadata": {},
   "outputs": [
    {
     "name": "stdout",
     "output_type": "stream",
     "text": [
      "35    617\n",
      "40    609\n",
      "41    607\n",
      "34    603\n",
      "38    598\n",
      "42    597\n",
      "33    581\n",
      "39    573\n",
      "31    560\n",
      "36    555\n",
      "44    547\n",
      "29    545\n",
      "30    540\n",
      "48    538\n",
      "37    537\n",
      "50    514\n",
      "43    513\n",
      "32    510\n",
      "49    508\n",
      "28    503\n",
      "45    497\n",
      "27    493\n",
      "56    487\n",
      "52    484\n",
      "47    480\n",
      "54    479\n",
      "46    475\n",
      "58    461\n",
      "57    460\n",
      "53    459\n",
      "51    448\n",
      "59    444\n",
      "55    443\n",
      "26    408\n",
      "60    377\n",
      "25    357\n",
      "61    355\n",
      "62    352\n",
      "63    269\n",
      "64    265\n",
      "24    264\n",
      "23    254\n",
      "65    194\n",
      "66    183\n",
      "22    183\n",
      "67    167\n",
      "21    111\n",
      "68     99\n",
      "69     85\n",
      "70     65\n",
      "71     58\n",
      "72     33\n",
      "19     14\n",
      "73      8\n",
      "74      6\n",
      "75      1\n",
      "Name: dob_years, dtype: int64\n"
     ]
    }
   ],
   "source": [
    "# Comprueba el resultado - asegúrate de que esté arreglado\n",
    "print(df['dob_years'].value_counts())"
   ]
  },
  {
   "cell_type": "markdown",
   "metadata": {},
   "source": [
    "Se procede a depurar los datos que no pertenecen al rango etario de los clientes."
   ]
  },
  {
   "cell_type": "code",
   "execution_count": 218,
   "metadata": {
    "scrolled": true
   },
   "outputs": [
    {
     "name": "stdout",
     "output_type": "stream",
     "text": [
      "married              12319\n",
      "civil partnership     4144\n",
      "unmarried             2771\n",
      "divorced              1184\n",
      "widow / widower        955\n",
      "Name: family_status, dtype: int64\n"
     ]
    }
   ],
   "source": [
    "print(df[\"family_status\"].value_counts())\n"
   ]
  },
  {
   "cell_type": "markdown",
   "metadata": {},
   "source": [
    "No veo problemas en esta columna, marca XNA por no asignación de sexo."
   ]
  },
  {
   "cell_type": "code",
   "execution_count": 219,
   "metadata": {},
   "outputs": [
    {
     "data": {
      "text/html": [
       "<div>\n",
       "<style scoped>\n",
       "    .dataframe tbody tr th:only-of-type {\n",
       "        vertical-align: middle;\n",
       "    }\n",
       "\n",
       "    .dataframe tbody tr th {\n",
       "        vertical-align: top;\n",
       "    }\n",
       "\n",
       "    .dataframe thead th {\n",
       "        text-align: right;\n",
       "    }\n",
       "</style>\n",
       "<table border=\"1\" class=\"dataframe\">\n",
       "  <thead>\n",
       "    <tr style=\"text-align: right;\">\n",
       "      <th></th>\n",
       "      <th>children</th>\n",
       "      <th>days_employed</th>\n",
       "      <th>dob_years</th>\n",
       "      <th>education</th>\n",
       "      <th>education_id</th>\n",
       "      <th>family_status</th>\n",
       "      <th>family_status_id</th>\n",
       "      <th>gender</th>\n",
       "      <th>income_type</th>\n",
       "      <th>debt</th>\n",
       "      <th>total_income</th>\n",
       "      <th>purpose</th>\n",
       "    </tr>\n",
       "  </thead>\n",
       "  <tbody>\n",
       "    <tr>\n",
       "      <th>10701</th>\n",
       "      <td>0</td>\n",
       "      <td>2358.600502</td>\n",
       "      <td>24</td>\n",
       "      <td>some college</td>\n",
       "      <td>2</td>\n",
       "      <td>civil partnership</td>\n",
       "      <td>1</td>\n",
       "      <td>XNA</td>\n",
       "      <td>business</td>\n",
       "      <td>0</td>\n",
       "      <td>32624.825</td>\n",
       "      <td>buy real estate</td>\n",
       "    </tr>\n",
       "  </tbody>\n",
       "</table>\n",
       "</div>"
      ],
      "text/plain": [
       "       children  days_employed  dob_years     education  education_id  \\\n",
       "10701         0    2358.600502         24  some college             2   \n",
       "\n",
       "           family_status  family_status_id gender income_type  debt  \\\n",
       "10701  civil partnership                 1    XNA    business     0   \n",
       "\n",
       "       total_income          purpose  \n",
       "10701     32624.825  buy real estate  "
      ]
     },
     "execution_count": 219,
     "metadata": {},
     "output_type": "execute_result"
    }
   ],
   "source": [
    "df.loc[df[\"gender\"] == \"XNA\"] "
   ]
  },
  {
   "cell_type": "code",
   "execution_count": 220,
   "metadata": {},
   "outputs": [
    {
     "data": {
      "text/plain": [
       "F      14136\n",
       "M       7236\n",
       "XNA        1\n",
       "Name: gender, dtype: int64"
      ]
     },
     "execution_count": 220,
     "metadata": {},
     "output_type": "execute_result"
    }
   ],
   "source": [
    "df[\"gender\"].value_counts()"
   ]
  },
  {
   "cell_type": "code",
   "execution_count": 221,
   "metadata": {},
   "outputs": [],
   "source": [
    "df = df[df.gender != 'XNA']"
   ]
  },
  {
   "cell_type": "markdown",
   "metadata": {},
   "source": [
    "Se elimina la fila que contiene XNA."
   ]
  },
  {
   "cell_type": "code",
   "execution_count": 222,
   "metadata": {
    "scrolled": true
   },
   "outputs": [
    {
     "data": {
      "text/plain": [
       "employee                       11031\n",
       "business                        5048\n",
       "retiree                         3836\n",
       "civil servant                   1451\n",
       "unemployed                         2\n",
       "entrepreneur                       2\n",
       "paternity / maternity leave        1\n",
       "student                            1\n",
       "Name: income_type, dtype: int64"
      ]
     },
     "execution_count": 222,
     "metadata": {},
     "output_type": "execute_result"
    }
   ],
   "source": [
    "df[\"income_type\"].value_counts()"
   ]
  },
  {
   "cell_type": "markdown",
   "metadata": {},
   "source": [
    "No veo problemas en esta columna."
   ]
  },
  {
   "cell_type": "code",
   "execution_count": 223,
   "metadata": {},
   "outputs": [
    {
     "name": "stdout",
     "output_type": "stream",
     "text": [
      "       children  days_employed  dob_years            education  education_id  \\\n",
      "0             1    8437.673028         42    bachelor's degree             0   \n",
      "1             1    4024.803754         36  secondary education             1   \n",
      "2             0    5623.422610         33  secondary education             1   \n",
      "3             3    4124.747207         32  secondary education             1   \n",
      "4             0            NaN         53  secondary education             1   \n",
      "...         ...            ...        ...                  ...           ...   \n",
      "21520         1    4529.316663         43  secondary education             1   \n",
      "21521         0            NaN         67  secondary education             1   \n",
      "21522         1    2113.346888         38  secondary education             1   \n",
      "21523         3    3112.481705         38  secondary education             1   \n",
      "21524         2    1984.507589         40  secondary education             1   \n",
      "\n",
      "           family_status  family_status_id gender income_type  debt  \\\n",
      "0                married                 0      F    employee     0   \n",
      "1                married                 0      F    employee     0   \n",
      "2                married                 0      M    employee     0   \n",
      "3                married                 0      M    employee     0   \n",
      "4      civil partnership                 1      F     retiree     0   \n",
      "...                  ...               ...    ...         ...   ...   \n",
      "21520  civil partnership                 1      F    business     0   \n",
      "21521            married                 0      F     retiree     0   \n",
      "21522  civil partnership                 1      M    employee     1   \n",
      "21523            married                 0      M    employee     1   \n",
      "21524            married                 0      F    employee     0   \n",
      "\n",
      "       total_income                  purpose  \n",
      "0         40620.102    purchase of the house  \n",
      "1         17932.802             car purchase  \n",
      "2         23341.752    purchase of the house  \n",
      "3         42820.568  supplementary education  \n",
      "4         25378.572        to have a wedding  \n",
      "...             ...                      ...  \n",
      "21520     35966.698     housing transactions  \n",
      "21521     24959.969        purchase of a car  \n",
      "21522     14347.610                 property  \n",
      "21523     39054.888        buying my own car  \n",
      "21524     13127.587             to buy a car  \n",
      "\n",
      "[21372 rows x 12 columns]\n",
      "\n",
      "0        False\n",
      "1        False\n",
      "2        False\n",
      "3        False\n",
      "4        False\n",
      "         ...  \n",
      "21520    False\n",
      "21521    False\n",
      "21522    False\n",
      "21523    False\n",
      "21524    False\n",
      "Length: 21372, dtype: bool\n",
      "\n",
      "71\n"
     ]
    }
   ],
   "source": [
    "print(df)\n",
    "print()\n",
    "print(df.duplicated())\n",
    "print()\n",
    "print(df.duplicated().sum()) "
   ]
  },
  {
   "cell_type": "code",
   "execution_count": 224,
   "metadata": {},
   "outputs": [
    {
     "name": "stdout",
     "output_type": "stream",
     "text": [
      "       children  days_employed  dob_years            education  education_id  \\\n",
      "2849          0            NaN         41  secondary education             1   \n",
      "3290          0            NaN         58  secondary education             1   \n",
      "4182          1            NaN         34    bachelor's degree             0   \n",
      "4851          0            NaN         60  secondary education             1   \n",
      "5557          0            NaN         58  secondary education             1   \n",
      "...         ...            ...        ...                  ...           ...   \n",
      "20702         0            NaN         64  secondary education             1   \n",
      "21032         0            NaN         60  secondary education             1   \n",
      "21132         0            NaN         47  secondary education             1   \n",
      "21281         1            NaN         30    bachelor's degree             0   \n",
      "21415         0            NaN         54  secondary education             1   \n",
      "\n",
      "           family_status  family_status_id gender income_type  debt  \\\n",
      "2849             married                 0      F    employee     0   \n",
      "3290   civil partnership                 1      F     retiree     0   \n",
      "4182   civil partnership                 1      F    employee     0   \n",
      "4851   civil partnership                 1      F     retiree     0   \n",
      "5557   civil partnership                 1      F     retiree     0   \n",
      "...                  ...               ...    ...         ...   ...   \n",
      "20702            married                 0      F     retiree     0   \n",
      "21032            married                 0      F     retiree     0   \n",
      "21132            married                 0      F    employee     0   \n",
      "21281            married                 0      F    employee     0   \n",
      "21415            married                 0      F     retiree     0   \n",
      "\n",
      "       total_income                              purpose  \n",
      "2849            NaN  purchase of the house for my family  \n",
      "3290            NaN                    to have a wedding  \n",
      "4182            NaN                     wedding ceremony  \n",
      "4851            NaN                     wedding ceremony  \n",
      "5557            NaN                    to have a wedding  \n",
      "...             ...                                  ...  \n",
      "20702           NaN              supplementary education  \n",
      "21032           NaN                   to become educated  \n",
      "21132           NaN                   housing renovation  \n",
      "21281           NaN           buy commercial real estate  \n",
      "21415           NaN                 housing transactions  \n",
      "\n",
      "[71 rows x 12 columns]\n"
     ]
    }
   ],
   "source": [
    "# Aborda los duplicados, si existen\n",
    "dup = df[df.duplicated()]\n",
    "print(dup)"
   ]
  },
  {
   "cell_type": "code",
   "execution_count": 225,
   "metadata": {},
   "outputs": [],
   "source": [
    "# Última comprobación para ver si tenemos duplicados\n",
    "df = df.drop_duplicates().reset_index(drop = True)"
   ]
  },
  {
   "cell_type": "markdown",
   "metadata": {},
   "source": [
    "Se dropean los 71 datos duplicados y se resetea el indice de DF."
   ]
  },
  {
   "cell_type": "code",
   "execution_count": 226,
   "metadata": {},
   "outputs": [
    {
     "name": "stdout",
     "output_type": "stream",
     "text": [
      "<class 'pandas.core.frame.DataFrame'>\n",
      "RangeIndex: 21301 entries, 0 to 21300\n",
      "Data columns (total 12 columns):\n",
      " #   Column            Non-Null Count  Dtype  \n",
      "---  ------            --------------  -----  \n",
      " 0   children          21301 non-null  int64  \n",
      " 1   days_employed     15926 non-null  float64\n",
      " 2   dob_years         21301 non-null  int64  \n",
      " 3   education         21301 non-null  object \n",
      " 4   education_id      21301 non-null  int64  \n",
      " 5   family_status     21301 non-null  object \n",
      " 6   family_status_id  21301 non-null  int64  \n",
      " 7   gender            21301 non-null  object \n",
      " 8   income_type       21301 non-null  object \n",
      " 9   debt              21301 non-null  int64  \n",
      " 10  total_income      19213 non-null  float64\n",
      " 11  purpose           21301 non-null  object \n",
      "dtypes: float64(2), int64(5), object(5)\n",
      "memory usage: 2.0+ MB\n"
     ]
    }
   ],
   "source": [
    "# Comprueba el tamaño del conjunto de datos que tienes ahora, después de haber ejecutado estas primeras manipulaciones\n",
    "df.info()"
   ]
  },
  {
   "cell_type": "markdown",
   "metadata": {},
   "source": [
    "# Trabajar con valores ausentes"
   ]
  },
  {
   "cell_type": "markdown",
   "metadata": {},
   "source": [
    "[Para acelerar el trabajo con algunos datos, puede que necesites trabajar con diccionarios para algunos valores, en los que se proporcionan IDs. Explica por qué y con qué diccionarios vas a trabajar.]"
   ]
  },
  {
   "cell_type": "code",
   "execution_count": 227,
   "metadata": {},
   "outputs": [
    {
     "data": {
      "text/plain": [
       "{0: \"bachelor's degree\",\n",
       " 1: 'secondary education',\n",
       " 2: 'some college',\n",
       " 3: 'primary education',\n",
       " 4: 'graduate degree'}"
      ]
     },
     "execution_count": 227,
     "metadata": {},
     "output_type": "execute_result"
    }
   ],
   "source": [
    "edu_category = df[[\"education_id\", \"education\"]].set_index(\"education_id\").to_dict()[\"education\"]\n",
    "edu_category"
   ]
  },
  {
   "cell_type": "code",
   "execution_count": 228,
   "metadata": {},
   "outputs": [
    {
     "data": {
      "text/plain": [
       "{0: 'married',\n",
       " 1: 'civil partnership',\n",
       " 2: 'widow / widower',\n",
       " 3: 'divorced',\n",
       " 4: 'unmarried'}"
      ]
     },
     "execution_count": 228,
     "metadata": {},
     "output_type": "execute_result"
    }
   ],
   "source": [
    "family_category = df[[\"family_status_id\", \"family_status\"]].set_index(\"family_status_id\").to_dict()[\"family_status\"]\n",
    "family_category"
   ]
  },
  {
   "cell_type": "markdown",
   "metadata": {},
   "source": [
    "### Restaurar valores ausentes en `total_income`"
   ]
  },
  {
   "cell_type": "code",
   "execution_count": 229,
   "metadata": {},
   "outputs": [
    {
     "name": "stdout",
     "output_type": "stream",
     "text": [
      "children               0\n",
      "days_employed       5375\n",
      "dob_years              0\n",
      "education              0\n",
      "education_id           0\n",
      "family_status          0\n",
      "family_status_id       0\n",
      "gender                 0\n",
      "income_type            0\n",
      "debt                   0\n",
      "total_income        2088\n",
      "purpose                0\n",
      "dtype: int64\n"
     ]
    }
   ],
   "source": [
    "print(df.isna().sum())"
   ]
  },
  {
   "cell_type": "code",
   "execution_count": 230,
   "metadata": {},
   "outputs": [
    {
     "data": {
      "text/plain": [
       "12      NaN\n",
       "26      NaN\n",
       "29      NaN\n",
       "41      NaN\n",
       "54      NaN\n",
       "         ..\n",
       "21265   NaN\n",
       "21271   NaN\n",
       "21273   NaN\n",
       "21278   NaN\n",
       "21286   NaN\n",
       "Name: total_income, Length: 2088, dtype: float64"
      ]
     },
     "execution_count": 230,
     "metadata": {},
     "output_type": "execute_result"
    }
   ],
   "source": [
    "df.loc[df['total_income'].isna(), 'total_income']"
   ]
  },
  {
   "cell_type": "markdown",
   "metadata": {},
   "source": [
    "para cambiar los valores NaN se debe considerar el valor medio de cada edad, y según la edad se considerara el valor de esta. "
   ]
  },
  {
   "cell_type": "code",
   "execution_count": 231,
   "metadata": {},
   "outputs": [
    {
     "data": {
      "text/plain": [
       "count    21301.000000\n",
       "mean        43.533027\n",
       "std         12.202440\n",
       "min         19.000000\n",
       "25%         34.000000\n",
       "50%         43.000000\n",
       "75%         53.000000\n",
       "max         75.000000\n",
       "Name: dob_years, dtype: float64"
      ]
     },
     "execution_count": 231,
     "metadata": {},
     "output_type": "execute_result"
    }
   ],
   "source": [
    "df[\"dob_years\"].describe()  "
   ]
  },
  {
   "cell_type": "code",
   "execution_count": 232,
   "metadata": {},
   "outputs": [],
   "source": [
    "# Vamos a escribir una función que calcule la categoría de edad\n",
    "def age_range(age):\n",
    "    if age[\"dob_years\"] <=30:\n",
    "        return \"joven\"\n",
    "    elif age[\"dob_years\"]>30 and age[\"dob_years\"]<=50:\n",
    "        return \"adulto\"\n",
    "    else:\n",
    "        return\"adulto mayor\""
   ]
  },
  {
   "cell_type": "code",
   "execution_count": 233,
   "metadata": {},
   "outputs": [
    {
     "name": "stdout",
     "output_type": "stream",
     "text": [
      "adulto mayor\n"
     ]
    }
   ],
   "source": [
    "serie_prueba = pd.Series({\"dob_years\": 54})\n",
    "resultado = age_range(serie_prueba)\n",
    "print(resultado)"
   ]
  },
  {
   "cell_type": "code",
   "execution_count": 234,
   "metadata": {},
   "outputs": [],
   "source": [
    "df[\"age_grouped\"] = df.apply(age_range, axis=1)"
   ]
  },
  {
   "cell_type": "code",
   "execution_count": 235,
   "metadata": {},
   "outputs": [
    {
     "data": {
      "text/plain": [
       "adulto          10992\n",
       "adulto mayor     6644\n",
       "joven            3665\n",
       "Name: age_grouped, dtype: int64"
      ]
     },
     "execution_count": 235,
     "metadata": {},
     "output_type": "execute_result"
    }
   ],
   "source": [
    "df[\"age_grouped\"].value_counts()"
   ]
  },
  {
   "cell_type": "markdown",
   "metadata": {},
   "source": [
    "Desde esta función se agrega una nueva columna llamada age_grouped, para ver si las personas calzan en joven, adulto o adulto mayor."
   ]
  },
  {
   "cell_type": "code",
   "execution_count": 236,
   "metadata": {},
   "outputs": [
    {
     "data": {
      "text/html": [
       "<div>\n",
       "<style scoped>\n",
       "    .dataframe tbody tr th:only-of-type {\n",
       "        vertical-align: middle;\n",
       "    }\n",
       "\n",
       "    .dataframe tbody tr th {\n",
       "        vertical-align: top;\n",
       "    }\n",
       "\n",
       "    .dataframe thead th {\n",
       "        text-align: right;\n",
       "    }\n",
       "</style>\n",
       "<table border=\"1\" class=\"dataframe\">\n",
       "  <thead>\n",
       "    <tr style=\"text-align: right;\">\n",
       "      <th></th>\n",
       "      <th>children</th>\n",
       "      <th>days_employed</th>\n",
       "      <th>dob_years</th>\n",
       "      <th>education</th>\n",
       "      <th>education_id</th>\n",
       "      <th>family_status</th>\n",
       "      <th>family_status_id</th>\n",
       "      <th>gender</th>\n",
       "      <th>income_type</th>\n",
       "      <th>debt</th>\n",
       "      <th>total_income</th>\n",
       "      <th>purpose</th>\n",
       "      <th>age_grouped</th>\n",
       "    </tr>\n",
       "  </thead>\n",
       "  <tbody>\n",
       "    <tr>\n",
       "      <th>4</th>\n",
       "      <td>0</td>\n",
       "      <td>NaN</td>\n",
       "      <td>53</td>\n",
       "      <td>secondary education</td>\n",
       "      <td>1</td>\n",
       "      <td>civil partnership</td>\n",
       "      <td>1</td>\n",
       "      <td>F</td>\n",
       "      <td>retiree</td>\n",
       "      <td>0</td>\n",
       "      <td>25378.572</td>\n",
       "      <td>to have a wedding</td>\n",
       "      <td>adulto mayor</td>\n",
       "    </tr>\n",
       "    <tr>\n",
       "      <th>12</th>\n",
       "      <td>0</td>\n",
       "      <td>NaN</td>\n",
       "      <td>65</td>\n",
       "      <td>secondary education</td>\n",
       "      <td>1</td>\n",
       "      <td>civil partnership</td>\n",
       "      <td>1</td>\n",
       "      <td>M</td>\n",
       "      <td>retiree</td>\n",
       "      <td>0</td>\n",
       "      <td>NaN</td>\n",
       "      <td>to have a wedding</td>\n",
       "      <td>adulto mayor</td>\n",
       "    </tr>\n",
       "    <tr>\n",
       "      <th>24</th>\n",
       "      <td>1</td>\n",
       "      <td>NaN</td>\n",
       "      <td>57</td>\n",
       "      <td>secondary education</td>\n",
       "      <td>1</td>\n",
       "      <td>unmarried</td>\n",
       "      <td>4</td>\n",
       "      <td>F</td>\n",
       "      <td>retiree</td>\n",
       "      <td>0</td>\n",
       "      <td>46487.558</td>\n",
       "      <td>transactions with commercial real estate</td>\n",
       "      <td>adulto mayor</td>\n",
       "    </tr>\n",
       "    <tr>\n",
       "      <th>25</th>\n",
       "      <td>0</td>\n",
       "      <td>NaN</td>\n",
       "      <td>67</td>\n",
       "      <td>secondary education</td>\n",
       "      <td>1</td>\n",
       "      <td>married</td>\n",
       "      <td>0</td>\n",
       "      <td>M</td>\n",
       "      <td>retiree</td>\n",
       "      <td>0</td>\n",
       "      <td>8818.041</td>\n",
       "      <td>buy real estate</td>\n",
       "      <td>adulto mayor</td>\n",
       "    </tr>\n",
       "    <tr>\n",
       "      <th>26</th>\n",
       "      <td>0</td>\n",
       "      <td>NaN</td>\n",
       "      <td>41</td>\n",
       "      <td>secondary education</td>\n",
       "      <td>1</td>\n",
       "      <td>married</td>\n",
       "      <td>0</td>\n",
       "      <td>M</td>\n",
       "      <td>civil servant</td>\n",
       "      <td>0</td>\n",
       "      <td>NaN</td>\n",
       "      <td>education</td>\n",
       "      <td>adulto</td>\n",
       "    </tr>\n",
       "    <tr>\n",
       "      <th>...</th>\n",
       "      <td>...</td>\n",
       "      <td>...</td>\n",
       "      <td>...</td>\n",
       "      <td>...</td>\n",
       "      <td>...</td>\n",
       "      <td>...</td>\n",
       "      <td>...</td>\n",
       "      <td>...</td>\n",
       "      <td>...</td>\n",
       "      <td>...</td>\n",
       "      <td>...</td>\n",
       "      <td>...</td>\n",
       "      <td>...</td>\n",
       "    </tr>\n",
       "    <tr>\n",
       "      <th>21284</th>\n",
       "      <td>0</td>\n",
       "      <td>NaN</td>\n",
       "      <td>62</td>\n",
       "      <td>secondary education</td>\n",
       "      <td>1</td>\n",
       "      <td>married</td>\n",
       "      <td>0</td>\n",
       "      <td>M</td>\n",
       "      <td>retiree</td>\n",
       "      <td>0</td>\n",
       "      <td>11622.175</td>\n",
       "      <td>property</td>\n",
       "      <td>adulto mayor</td>\n",
       "    </tr>\n",
       "    <tr>\n",
       "      <th>21285</th>\n",
       "      <td>0</td>\n",
       "      <td>NaN</td>\n",
       "      <td>59</td>\n",
       "      <td>bachelor's degree</td>\n",
       "      <td>0</td>\n",
       "      <td>married</td>\n",
       "      <td>0</td>\n",
       "      <td>M</td>\n",
       "      <td>retiree</td>\n",
       "      <td>0</td>\n",
       "      <td>11684.650</td>\n",
       "      <td>real estate transactions</td>\n",
       "      <td>adulto mayor</td>\n",
       "    </tr>\n",
       "    <tr>\n",
       "      <th>21286</th>\n",
       "      <td>2</td>\n",
       "      <td>NaN</td>\n",
       "      <td>28</td>\n",
       "      <td>secondary education</td>\n",
       "      <td>1</td>\n",
       "      <td>married</td>\n",
       "      <td>0</td>\n",
       "      <td>F</td>\n",
       "      <td>employee</td>\n",
       "      <td>0</td>\n",
       "      <td>NaN</td>\n",
       "      <td>car purchase</td>\n",
       "      <td>joven</td>\n",
       "    </tr>\n",
       "    <tr>\n",
       "      <th>21294</th>\n",
       "      <td>0</td>\n",
       "      <td>NaN</td>\n",
       "      <td>59</td>\n",
       "      <td>secondary education</td>\n",
       "      <td>1</td>\n",
       "      <td>married</td>\n",
       "      <td>0</td>\n",
       "      <td>F</td>\n",
       "      <td>retiree</td>\n",
       "      <td>0</td>\n",
       "      <td>24618.344</td>\n",
       "      <td>purchase of a car</td>\n",
       "      <td>adulto mayor</td>\n",
       "    </tr>\n",
       "    <tr>\n",
       "      <th>21297</th>\n",
       "      <td>0</td>\n",
       "      <td>NaN</td>\n",
       "      <td>67</td>\n",
       "      <td>secondary education</td>\n",
       "      <td>1</td>\n",
       "      <td>married</td>\n",
       "      <td>0</td>\n",
       "      <td>F</td>\n",
       "      <td>retiree</td>\n",
       "      <td>0</td>\n",
       "      <td>24959.969</td>\n",
       "      <td>purchase of a car</td>\n",
       "      <td>adulto mayor</td>\n",
       "    </tr>\n",
       "  </tbody>\n",
       "</table>\n",
       "<p>5375 rows × 13 columns</p>\n",
       "</div>"
      ],
      "text/plain": [
       "       children  days_employed  dob_years            education  education_id  \\\n",
       "4             0            NaN         53  secondary education             1   \n",
       "12            0            NaN         65  secondary education             1   \n",
       "24            1            NaN         57  secondary education             1   \n",
       "25            0            NaN         67  secondary education             1   \n",
       "26            0            NaN         41  secondary education             1   \n",
       "...         ...            ...        ...                  ...           ...   \n",
       "21284         0            NaN         62  secondary education             1   \n",
       "21285         0            NaN         59    bachelor's degree             0   \n",
       "21286         2            NaN         28  secondary education             1   \n",
       "21294         0            NaN         59  secondary education             1   \n",
       "21297         0            NaN         67  secondary education             1   \n",
       "\n",
       "           family_status  family_status_id gender    income_type  debt  \\\n",
       "4      civil partnership                 1      F        retiree     0   \n",
       "12     civil partnership                 1      M        retiree     0   \n",
       "24             unmarried                 4      F        retiree     0   \n",
       "25               married                 0      M        retiree     0   \n",
       "26               married                 0      M  civil servant     0   \n",
       "...                  ...               ...    ...            ...   ...   \n",
       "21284            married                 0      M        retiree     0   \n",
       "21285            married                 0      M        retiree     0   \n",
       "21286            married                 0      F       employee     0   \n",
       "21294            married                 0      F        retiree     0   \n",
       "21297            married                 0      F        retiree     0   \n",
       "\n",
       "       total_income                                   purpose   age_grouped  \n",
       "4         25378.572                         to have a wedding  adulto mayor  \n",
       "12              NaN                         to have a wedding  adulto mayor  \n",
       "24        46487.558  transactions with commercial real estate  adulto mayor  \n",
       "25         8818.041                           buy real estate  adulto mayor  \n",
       "26              NaN                                 education        adulto  \n",
       "...             ...                                       ...           ...  \n",
       "21284     11622.175                                  property  adulto mayor  \n",
       "21285     11684.650                  real estate transactions  adulto mayor  \n",
       "21286           NaN                              car purchase         joven  \n",
       "21294     24618.344                         purchase of a car  adulto mayor  \n",
       "21297     24959.969                         purchase of a car  adulto mayor  \n",
       "\n",
       "[5375 rows x 13 columns]"
      ]
     },
     "execution_count": 236,
     "metadata": {},
     "output_type": "execute_result"
    }
   ],
   "source": [
    "df.loc[df['days_employed'].isnull()]\n",
    "# Crea una tabla sin valores ausentes y muestra algunas de sus filas para asegurarte de que se ve bien"
   ]
  },
  {
   "cell_type": "code",
   "execution_count": 237,
   "metadata": {},
   "outputs": [
    {
     "data": {
      "text/html": [
       "<div>\n",
       "<style scoped>\n",
       "    .dataframe tbody tr th:only-of-type {\n",
       "        vertical-align: middle;\n",
       "    }\n",
       "\n",
       "    .dataframe tbody tr th {\n",
       "        vertical-align: top;\n",
       "    }\n",
       "\n",
       "    .dataframe thead th {\n",
       "        text-align: right;\n",
       "    }\n",
       "</style>\n",
       "<table border=\"1\" class=\"dataframe\">\n",
       "  <thead>\n",
       "    <tr style=\"text-align: right;\">\n",
       "      <th></th>\n",
       "      <th>count</th>\n",
       "      <th>mean</th>\n",
       "      <th>std</th>\n",
       "      <th>min</th>\n",
       "      <th>25%</th>\n",
       "      <th>50%</th>\n",
       "      <th>75%</th>\n",
       "      <th>max</th>\n",
       "    </tr>\n",
       "    <tr>\n",
       "      <th>age_grouped</th>\n",
       "      <th></th>\n",
       "      <th></th>\n",
       "      <th></th>\n",
       "      <th></th>\n",
       "      <th></th>\n",
       "      <th></th>\n",
       "      <th></th>\n",
       "      <th></th>\n",
       "    </tr>\n",
       "  </thead>\n",
       "  <tbody>\n",
       "    <tr>\n",
       "      <th>adulto</th>\n",
       "      <td>9924.0</td>\n",
       "      <td>28383.188755</td>\n",
       "      <td>17680.621039</td>\n",
       "      <td>3392.845</td>\n",
       "      <td>17528.94475</td>\n",
       "      <td>24711.8435</td>\n",
       "      <td>34636.30075</td>\n",
       "      <td>362496.645</td>\n",
       "    </tr>\n",
       "    <tr>\n",
       "      <th>adulto mayor</th>\n",
       "      <td>5970.0</td>\n",
       "      <td>24704.150073</td>\n",
       "      <td>15404.432616</td>\n",
       "      <td>3306.762</td>\n",
       "      <td>14951.58600</td>\n",
       "      <td>21310.9445</td>\n",
       "      <td>30264.79575</td>\n",
       "      <td>274402.943</td>\n",
       "    </tr>\n",
       "    <tr>\n",
       "      <th>joven</th>\n",
       "      <td>3319.0</td>\n",
       "      <td>25891.834282</td>\n",
       "      <td>14130.295277</td>\n",
       "      <td>4494.861</td>\n",
       "      <td>16553.93450</td>\n",
       "      <td>23025.2700</td>\n",
       "      <td>31288.72100</td>\n",
       "      <td>159522.288</td>\n",
       "    </tr>\n",
       "  </tbody>\n",
       "</table>\n",
       "</div>"
      ],
      "text/plain": [
       "               count          mean           std       min          25%  \\\n",
       "age_grouped                                                               \n",
       "adulto        9924.0  28383.188755  17680.621039  3392.845  17528.94475   \n",
       "adulto mayor  5970.0  24704.150073  15404.432616  3306.762  14951.58600   \n",
       "joven         3319.0  25891.834282  14130.295277  4494.861  16553.93450   \n",
       "\n",
       "                     50%          75%         max  \n",
       "age_grouped                                        \n",
       "adulto        24711.8435  34636.30075  362496.645  \n",
       "adulto mayor  21310.9445  30264.79575  274402.943  \n",
       "joven         23025.2700  31288.72100  159522.288  "
      ]
     },
     "execution_count": 237,
     "metadata": {},
     "output_type": "execute_result"
    }
   ],
   "source": [
    "df.groupby([\"age_grouped\"])[\"total_income\"].describe()"
   ]
  },
  {
   "cell_type": "markdown",
   "metadata": {},
   "source": [
    "Al dividir los datos de \"total_income\" se puede apreciar la diferencia de \"mean\" y \"medium\", La media se utiliza para distribuciones normales de números, con una cantidad baja de valores atípicos. La mediana se utiliza generalmente para devolver la tendencia central en el caso de distribuciones numéricas sesgadas"
   ]
  },
  {
   "cell_type": "markdown",
   "metadata": {},
   "source": [
    "Debido a la deducción anterior, el uso de la mediana sera el determinante de estos datos, ya que el promedio toma demasiados datos, elevando el precio standar.\n"
   ]
  },
  {
   "cell_type": "code",
   "execution_count": 238,
   "metadata": {},
   "outputs": [],
   "source": [
    "df[\"total_income\"] = df.groupby(\"age_grouped\")[\"total_income\"].apply(lambda df: df.fillna(df.median()))"
   ]
  },
  {
   "cell_type": "code",
   "execution_count": 239,
   "metadata": {},
   "outputs": [
    {
     "data": {
      "text/html": [
       "<div>\n",
       "<style scoped>\n",
       "    .dataframe tbody tr th:only-of-type {\n",
       "        vertical-align: middle;\n",
       "    }\n",
       "\n",
       "    .dataframe tbody tr th {\n",
       "        vertical-align: top;\n",
       "    }\n",
       "\n",
       "    .dataframe thead th {\n",
       "        text-align: right;\n",
       "    }\n",
       "</style>\n",
       "<table border=\"1\" class=\"dataframe\">\n",
       "  <thead>\n",
       "    <tr style=\"text-align: right;\">\n",
       "      <th></th>\n",
       "      <th>children</th>\n",
       "      <th>days_employed</th>\n",
       "      <th>dob_years</th>\n",
       "      <th>education</th>\n",
       "      <th>education_id</th>\n",
       "      <th>family_status</th>\n",
       "      <th>family_status_id</th>\n",
       "      <th>gender</th>\n",
       "      <th>income_type</th>\n",
       "      <th>debt</th>\n",
       "      <th>total_income</th>\n",
       "      <th>purpose</th>\n",
       "      <th>age_grouped</th>\n",
       "    </tr>\n",
       "  </thead>\n",
       "  <tbody>\n",
       "    <tr>\n",
       "      <th>12</th>\n",
       "      <td>0</td>\n",
       "      <td>NaN</td>\n",
       "      <td>65</td>\n",
       "      <td>secondary education</td>\n",
       "      <td>1</td>\n",
       "      <td>civil partnership</td>\n",
       "      <td>1</td>\n",
       "      <td>M</td>\n",
       "      <td>retiree</td>\n",
       "      <td>0</td>\n",
       "      <td>21310.9445</td>\n",
       "      <td>to have a wedding</td>\n",
       "      <td>adulto mayor</td>\n",
       "    </tr>\n",
       "    <tr>\n",
       "      <th>13</th>\n",
       "      <td>0</td>\n",
       "      <td>1846.641941</td>\n",
       "      <td>54</td>\n",
       "      <td>some college</td>\n",
       "      <td>2</td>\n",
       "      <td>married</td>\n",
       "      <td>0</td>\n",
       "      <td>F</td>\n",
       "      <td>employee</td>\n",
       "      <td>0</td>\n",
       "      <td>20873.3170</td>\n",
       "      <td>car purchase</td>\n",
       "      <td>adulto mayor</td>\n",
       "    </tr>\n",
       "    <tr>\n",
       "      <th>14</th>\n",
       "      <td>0</td>\n",
       "      <td>1844.956182</td>\n",
       "      <td>56</td>\n",
       "      <td>bachelor's degree</td>\n",
       "      <td>0</td>\n",
       "      <td>civil partnership</td>\n",
       "      <td>1</td>\n",
       "      <td>F</td>\n",
       "      <td>business</td>\n",
       "      <td>1</td>\n",
       "      <td>26420.4660</td>\n",
       "      <td>buy residential real estate</td>\n",
       "      <td>adulto mayor</td>\n",
       "    </tr>\n",
       "    <tr>\n",
       "      <th>15</th>\n",
       "      <td>1</td>\n",
       "      <td>972.364419</td>\n",
       "      <td>26</td>\n",
       "      <td>secondary education</td>\n",
       "      <td>1</td>\n",
       "      <td>married</td>\n",
       "      <td>0</td>\n",
       "      <td>F</td>\n",
       "      <td>employee</td>\n",
       "      <td>0</td>\n",
       "      <td>18691.3450</td>\n",
       "      <td>construction of own property</td>\n",
       "      <td>joven</td>\n",
       "    </tr>\n",
       "    <tr>\n",
       "      <th>16</th>\n",
       "      <td>0</td>\n",
       "      <td>1719.934226</td>\n",
       "      <td>35</td>\n",
       "      <td>secondary education</td>\n",
       "      <td>1</td>\n",
       "      <td>married</td>\n",
       "      <td>0</td>\n",
       "      <td>F</td>\n",
       "      <td>employee</td>\n",
       "      <td>0</td>\n",
       "      <td>46272.4330</td>\n",
       "      <td>property</td>\n",
       "      <td>adulto</td>\n",
       "    </tr>\n",
       "    <tr>\n",
       "      <th>...</th>\n",
       "      <td>...</td>\n",
       "      <td>...</td>\n",
       "      <td>...</td>\n",
       "      <td>...</td>\n",
       "      <td>...</td>\n",
       "      <td>...</td>\n",
       "      <td>...</td>\n",
       "      <td>...</td>\n",
       "      <td>...</td>\n",
       "      <td>...</td>\n",
       "      <td>...</td>\n",
       "      <td>...</td>\n",
       "      <td>...</td>\n",
       "    </tr>\n",
       "    <tr>\n",
       "      <th>21296</th>\n",
       "      <td>1</td>\n",
       "      <td>4529.316663</td>\n",
       "      <td>43</td>\n",
       "      <td>secondary education</td>\n",
       "      <td>1</td>\n",
       "      <td>civil partnership</td>\n",
       "      <td>1</td>\n",
       "      <td>F</td>\n",
       "      <td>business</td>\n",
       "      <td>0</td>\n",
       "      <td>35966.6980</td>\n",
       "      <td>housing transactions</td>\n",
       "      <td>adulto</td>\n",
       "    </tr>\n",
       "    <tr>\n",
       "      <th>21297</th>\n",
       "      <td>0</td>\n",
       "      <td>NaN</td>\n",
       "      <td>67</td>\n",
       "      <td>secondary education</td>\n",
       "      <td>1</td>\n",
       "      <td>married</td>\n",
       "      <td>0</td>\n",
       "      <td>F</td>\n",
       "      <td>retiree</td>\n",
       "      <td>0</td>\n",
       "      <td>24959.9690</td>\n",
       "      <td>purchase of a car</td>\n",
       "      <td>adulto mayor</td>\n",
       "    </tr>\n",
       "    <tr>\n",
       "      <th>21298</th>\n",
       "      <td>1</td>\n",
       "      <td>2113.346888</td>\n",
       "      <td>38</td>\n",
       "      <td>secondary education</td>\n",
       "      <td>1</td>\n",
       "      <td>civil partnership</td>\n",
       "      <td>1</td>\n",
       "      <td>M</td>\n",
       "      <td>employee</td>\n",
       "      <td>1</td>\n",
       "      <td>14347.6100</td>\n",
       "      <td>property</td>\n",
       "      <td>adulto</td>\n",
       "    </tr>\n",
       "    <tr>\n",
       "      <th>21299</th>\n",
       "      <td>3</td>\n",
       "      <td>3112.481705</td>\n",
       "      <td>38</td>\n",
       "      <td>secondary education</td>\n",
       "      <td>1</td>\n",
       "      <td>married</td>\n",
       "      <td>0</td>\n",
       "      <td>M</td>\n",
       "      <td>employee</td>\n",
       "      <td>1</td>\n",
       "      <td>39054.8880</td>\n",
       "      <td>buying my own car</td>\n",
       "      <td>adulto</td>\n",
       "    </tr>\n",
       "    <tr>\n",
       "      <th>21300</th>\n",
       "      <td>2</td>\n",
       "      <td>1984.507589</td>\n",
       "      <td>40</td>\n",
       "      <td>secondary education</td>\n",
       "      <td>1</td>\n",
       "      <td>married</td>\n",
       "      <td>0</td>\n",
       "      <td>F</td>\n",
       "      <td>employee</td>\n",
       "      <td>0</td>\n",
       "      <td>13127.5870</td>\n",
       "      <td>to buy a car</td>\n",
       "      <td>adulto</td>\n",
       "    </tr>\n",
       "  </tbody>\n",
       "</table>\n",
       "<p>21289 rows × 13 columns</p>\n",
       "</div>"
      ],
      "text/plain": [
       "       children  days_employed  dob_years            education  education_id  \\\n",
       "12            0            NaN         65  secondary education             1   \n",
       "13            0    1846.641941         54         some college             2   \n",
       "14            0    1844.956182         56    bachelor's degree             0   \n",
       "15            1     972.364419         26  secondary education             1   \n",
       "16            0    1719.934226         35  secondary education             1   \n",
       "...         ...            ...        ...                  ...           ...   \n",
       "21296         1    4529.316663         43  secondary education             1   \n",
       "21297         0            NaN         67  secondary education             1   \n",
       "21298         1    2113.346888         38  secondary education             1   \n",
       "21299         3    3112.481705         38  secondary education             1   \n",
       "21300         2    1984.507589         40  secondary education             1   \n",
       "\n",
       "           family_status  family_status_id gender income_type  debt  \\\n",
       "12     civil partnership                 1      M     retiree     0   \n",
       "13               married                 0      F    employee     0   \n",
       "14     civil partnership                 1      F    business     1   \n",
       "15               married                 0      F    employee     0   \n",
       "16               married                 0      F    employee     0   \n",
       "...                  ...               ...    ...         ...   ...   \n",
       "21296  civil partnership                 1      F    business     0   \n",
       "21297            married                 0      F     retiree     0   \n",
       "21298  civil partnership                 1      M    employee     1   \n",
       "21299            married                 0      M    employee     1   \n",
       "21300            married                 0      F    employee     0   \n",
       "\n",
       "       total_income                       purpose   age_grouped  \n",
       "12       21310.9445             to have a wedding  adulto mayor  \n",
       "13       20873.3170                  car purchase  adulto mayor  \n",
       "14       26420.4660   buy residential real estate  adulto mayor  \n",
       "15       18691.3450  construction of own property         joven  \n",
       "16       46272.4330                      property        adulto  \n",
       "...             ...                           ...           ...  \n",
       "21296    35966.6980          housing transactions        adulto  \n",
       "21297    24959.9690             purchase of a car  adulto mayor  \n",
       "21298    14347.6100                      property        adulto  \n",
       "21299    39054.8880             buying my own car        adulto  \n",
       "21300    13127.5870                  to buy a car        adulto  \n",
       "\n",
       "[21289 rows x 13 columns]"
      ]
     },
     "execution_count": 239,
     "metadata": {},
     "output_type": "execute_result"
    }
   ],
   "source": [
    "df[12:]"
   ]
  },
  {
   "cell_type": "code",
   "execution_count": 240,
   "metadata": {},
   "outputs": [
    {
     "data": {
      "text/plain": [
       "Series([], Name: total_income, dtype: float64)"
      ]
     },
     "execution_count": 240,
     "metadata": {},
     "output_type": "execute_result"
    }
   ],
   "source": [
    "df.loc[df[\"total_income\"].isnull(), \"total_income\"]"
   ]
  },
  {
   "cell_type": "code",
   "execution_count": 241,
   "metadata": {},
   "outputs": [
    {
     "name": "stdout",
     "output_type": "stream",
     "text": [
      "children               0\n",
      "days_employed       5375\n",
      "dob_years              0\n",
      "education              0\n",
      "education_id           0\n",
      "family_status          0\n",
      "family_status_id       0\n",
      "gender                 0\n",
      "income_type            0\n",
      "debt                   0\n",
      "total_income           0\n",
      "purpose                0\n",
      "age_grouped            0\n",
      "dtype: int64\n"
     ]
    }
   ],
   "source": [
    "print(df.isna().sum())"
   ]
  },
  {
   "cell_type": "markdown",
   "metadata": {},
   "source": [
    "Se imputan los valores NaN de total_income. Esto es para cambiarlos por la mediana."
   ]
  },
  {
   "cell_type": "markdown",
   "metadata": {},
   "source": [
    "###  Restaurar valores en `days_employed`"
   ]
  },
  {
   "cell_type": "code",
   "execution_count": 242,
   "metadata": {},
   "outputs": [
    {
     "data": {
      "text/plain": [
       "4       NaN\n",
       "12      NaN\n",
       "24      NaN\n",
       "25      NaN\n",
       "26      NaN\n",
       "         ..\n",
       "21284   NaN\n",
       "21285   NaN\n",
       "21286   NaN\n",
       "21294   NaN\n",
       "21297   NaN\n",
       "Name: days_employed, Length: 5375, dtype: float64"
      ]
     },
     "execution_count": 242,
     "metadata": {},
     "output_type": "execute_result"
    }
   ],
   "source": [
    "df.loc[df['days_employed'].isna(), 'days_employed']"
   ]
  },
  {
   "cell_type": "code",
   "execution_count": 243,
   "metadata": {},
   "outputs": [
    {
     "data": {
      "text/html": [
       "<div>\n",
       "<style scoped>\n",
       "    .dataframe tbody tr th:only-of-type {\n",
       "        vertical-align: middle;\n",
       "    }\n",
       "\n",
       "    .dataframe tbody tr th {\n",
       "        vertical-align: top;\n",
       "    }\n",
       "\n",
       "    .dataframe thead th {\n",
       "        text-align: right;\n",
       "    }\n",
       "</style>\n",
       "<table border=\"1\" class=\"dataframe\">\n",
       "  <thead>\n",
       "    <tr style=\"text-align: right;\">\n",
       "      <th></th>\n",
       "      <th>count</th>\n",
       "      <th>mean</th>\n",
       "      <th>std</th>\n",
       "      <th>min</th>\n",
       "      <th>25%</th>\n",
       "      <th>50%</th>\n",
       "      <th>75%</th>\n",
       "      <th>max</th>\n",
       "    </tr>\n",
       "    <tr>\n",
       "      <th>age_grouped</th>\n",
       "      <th></th>\n",
       "      <th></th>\n",
       "      <th></th>\n",
       "      <th></th>\n",
       "      <th></th>\n",
       "      <th></th>\n",
       "      <th></th>\n",
       "      <th></th>\n",
       "    </tr>\n",
       "  </thead>\n",
       "  <tbody>\n",
       "    <tr>\n",
       "      <th>adulto</th>\n",
       "      <td>9720.0</td>\n",
       "      <td>2993.012485</td>\n",
       "      <td>14551.227820</td>\n",
       "      <td>24.141633</td>\n",
       "      <td>828.457984</td>\n",
       "      <td>1811.992305</td>\n",
       "      <td>3387.986231</td>\n",
       "      <td>401188.917385</td>\n",
       "    </tr>\n",
       "    <tr>\n",
       "      <th>adulto mayor</th>\n",
       "      <td>2893.0</td>\n",
       "      <td>19305.583127</td>\n",
       "      <td>75331.516559</td>\n",
       "      <td>58.276481</td>\n",
       "      <td>1085.075633</td>\n",
       "      <td>2490.771162</td>\n",
       "      <td>5115.175944</td>\n",
       "      <td>401755.400475</td>\n",
       "    </tr>\n",
       "    <tr>\n",
       "      <th>joven</th>\n",
       "      <td>3313.0</td>\n",
       "      <td>1386.770377</td>\n",
       "      <td>5787.534711</td>\n",
       "      <td>51.496885</td>\n",
       "      <td>536.211258</td>\n",
       "      <td>1056.180128</td>\n",
       "      <td>1805.211084</td>\n",
       "      <td>329781.704997</td>\n",
       "    </tr>\n",
       "  </tbody>\n",
       "</table>\n",
       "</div>"
      ],
      "text/plain": [
       "               count          mean           std        min          25%  \\\n",
       "age_grouped                                                                \n",
       "adulto        9720.0   2993.012485  14551.227820  24.141633   828.457984   \n",
       "adulto mayor  2893.0  19305.583127  75331.516559  58.276481  1085.075633   \n",
       "joven         3313.0   1386.770377   5787.534711  51.496885   536.211258   \n",
       "\n",
       "                      50%          75%            max  \n",
       "age_grouped                                            \n",
       "adulto        1811.992305  3387.986231  401188.917385  \n",
       "adulto mayor  2490.771162  5115.175944  401755.400475  \n",
       "joven         1056.180128  1805.211084  329781.704997  "
      ]
     },
     "execution_count": 243,
     "metadata": {},
     "output_type": "execute_result"
    }
   ],
   "source": [
    "df.groupby([\"age_grouped\"])[\"days_employed\"].describe()"
   ]
  },
  {
   "cell_type": "markdown",
   "metadata": {},
   "source": [
    "para cambiar los valores NaN se debe considerar el promedio de cada edad, y según la edad se considerara el valor de esta."
   ]
  },
  {
   "cell_type": "code",
   "execution_count": 244,
   "metadata": {},
   "outputs": [],
   "source": [
    "df[\"days_employed\"] = df.groupby(\"age_grouped\")[\"days_employed\"].apply(lambda df: df.fillna(df.mean()))"
   ]
  },
  {
   "cell_type": "code",
   "execution_count": 245,
   "metadata": {},
   "outputs": [
    {
     "data": {
      "text/plain": [
       "Series([], Name: days_employed, dtype: float64)"
      ]
     },
     "execution_count": 245,
     "metadata": {},
     "output_type": "execute_result"
    }
   ],
   "source": [
    "# Comprueba que la función funciona\n",
    "df.loc[df['days_employed'].isnull(), 'days_employed']\n"
   ]
  },
  {
   "cell_type": "code",
   "execution_count": 246,
   "metadata": {},
   "outputs": [
    {
     "data": {
      "text/html": [
       "<div>\n",
       "<style scoped>\n",
       "    .dataframe tbody tr th:only-of-type {\n",
       "        vertical-align: middle;\n",
       "    }\n",
       "\n",
       "    .dataframe tbody tr th {\n",
       "        vertical-align: top;\n",
       "    }\n",
       "\n",
       "    .dataframe thead th {\n",
       "        text-align: right;\n",
       "    }\n",
       "</style>\n",
       "<table border=\"1\" class=\"dataframe\">\n",
       "  <thead>\n",
       "    <tr style=\"text-align: right;\">\n",
       "      <th></th>\n",
       "      <th>children</th>\n",
       "      <th>days_employed</th>\n",
       "      <th>dob_years</th>\n",
       "      <th>education</th>\n",
       "      <th>education_id</th>\n",
       "      <th>family_status</th>\n",
       "      <th>family_status_id</th>\n",
       "      <th>gender</th>\n",
       "      <th>income_type</th>\n",
       "      <th>debt</th>\n",
       "      <th>total_income</th>\n",
       "      <th>purpose</th>\n",
       "      <th>age_grouped</th>\n",
       "    </tr>\n",
       "  </thead>\n",
       "  <tbody>\n",
       "    <tr>\n",
       "      <th>12</th>\n",
       "      <td>0</td>\n",
       "      <td>19305.583127</td>\n",
       "      <td>65</td>\n",
       "      <td>secondary education</td>\n",
       "      <td>1</td>\n",
       "      <td>civil partnership</td>\n",
       "      <td>1</td>\n",
       "      <td>M</td>\n",
       "      <td>retiree</td>\n",
       "      <td>0</td>\n",
       "      <td>21310.9445</td>\n",
       "      <td>to have a wedding</td>\n",
       "      <td>adulto mayor</td>\n",
       "    </tr>\n",
       "    <tr>\n",
       "      <th>13</th>\n",
       "      <td>0</td>\n",
       "      <td>1846.641941</td>\n",
       "      <td>54</td>\n",
       "      <td>some college</td>\n",
       "      <td>2</td>\n",
       "      <td>married</td>\n",
       "      <td>0</td>\n",
       "      <td>F</td>\n",
       "      <td>employee</td>\n",
       "      <td>0</td>\n",
       "      <td>20873.3170</td>\n",
       "      <td>car purchase</td>\n",
       "      <td>adulto mayor</td>\n",
       "    </tr>\n",
       "    <tr>\n",
       "      <th>14</th>\n",
       "      <td>0</td>\n",
       "      <td>1844.956182</td>\n",
       "      <td>56</td>\n",
       "      <td>bachelor's degree</td>\n",
       "      <td>0</td>\n",
       "      <td>civil partnership</td>\n",
       "      <td>1</td>\n",
       "      <td>F</td>\n",
       "      <td>business</td>\n",
       "      <td>1</td>\n",
       "      <td>26420.4660</td>\n",
       "      <td>buy residential real estate</td>\n",
       "      <td>adulto mayor</td>\n",
       "    </tr>\n",
       "    <tr>\n",
       "      <th>15</th>\n",
       "      <td>1</td>\n",
       "      <td>972.364419</td>\n",
       "      <td>26</td>\n",
       "      <td>secondary education</td>\n",
       "      <td>1</td>\n",
       "      <td>married</td>\n",
       "      <td>0</td>\n",
       "      <td>F</td>\n",
       "      <td>employee</td>\n",
       "      <td>0</td>\n",
       "      <td>18691.3450</td>\n",
       "      <td>construction of own property</td>\n",
       "      <td>joven</td>\n",
       "    </tr>\n",
       "    <tr>\n",
       "      <th>16</th>\n",
       "      <td>0</td>\n",
       "      <td>1719.934226</td>\n",
       "      <td>35</td>\n",
       "      <td>secondary education</td>\n",
       "      <td>1</td>\n",
       "      <td>married</td>\n",
       "      <td>0</td>\n",
       "      <td>F</td>\n",
       "      <td>employee</td>\n",
       "      <td>0</td>\n",
       "      <td>46272.4330</td>\n",
       "      <td>property</td>\n",
       "      <td>adulto</td>\n",
       "    </tr>\n",
       "    <tr>\n",
       "      <th>...</th>\n",
       "      <td>...</td>\n",
       "      <td>...</td>\n",
       "      <td>...</td>\n",
       "      <td>...</td>\n",
       "      <td>...</td>\n",
       "      <td>...</td>\n",
       "      <td>...</td>\n",
       "      <td>...</td>\n",
       "      <td>...</td>\n",
       "      <td>...</td>\n",
       "      <td>...</td>\n",
       "      <td>...</td>\n",
       "      <td>...</td>\n",
       "    </tr>\n",
       "    <tr>\n",
       "      <th>21296</th>\n",
       "      <td>1</td>\n",
       "      <td>4529.316663</td>\n",
       "      <td>43</td>\n",
       "      <td>secondary education</td>\n",
       "      <td>1</td>\n",
       "      <td>civil partnership</td>\n",
       "      <td>1</td>\n",
       "      <td>F</td>\n",
       "      <td>business</td>\n",
       "      <td>0</td>\n",
       "      <td>35966.6980</td>\n",
       "      <td>housing transactions</td>\n",
       "      <td>adulto</td>\n",
       "    </tr>\n",
       "    <tr>\n",
       "      <th>21297</th>\n",
       "      <td>0</td>\n",
       "      <td>19305.583127</td>\n",
       "      <td>67</td>\n",
       "      <td>secondary education</td>\n",
       "      <td>1</td>\n",
       "      <td>married</td>\n",
       "      <td>0</td>\n",
       "      <td>F</td>\n",
       "      <td>retiree</td>\n",
       "      <td>0</td>\n",
       "      <td>24959.9690</td>\n",
       "      <td>purchase of a car</td>\n",
       "      <td>adulto mayor</td>\n",
       "    </tr>\n",
       "    <tr>\n",
       "      <th>21298</th>\n",
       "      <td>1</td>\n",
       "      <td>2113.346888</td>\n",
       "      <td>38</td>\n",
       "      <td>secondary education</td>\n",
       "      <td>1</td>\n",
       "      <td>civil partnership</td>\n",
       "      <td>1</td>\n",
       "      <td>M</td>\n",
       "      <td>employee</td>\n",
       "      <td>1</td>\n",
       "      <td>14347.6100</td>\n",
       "      <td>property</td>\n",
       "      <td>adulto</td>\n",
       "    </tr>\n",
       "    <tr>\n",
       "      <th>21299</th>\n",
       "      <td>3</td>\n",
       "      <td>3112.481705</td>\n",
       "      <td>38</td>\n",
       "      <td>secondary education</td>\n",
       "      <td>1</td>\n",
       "      <td>married</td>\n",
       "      <td>0</td>\n",
       "      <td>M</td>\n",
       "      <td>employee</td>\n",
       "      <td>1</td>\n",
       "      <td>39054.8880</td>\n",
       "      <td>buying my own car</td>\n",
       "      <td>adulto</td>\n",
       "    </tr>\n",
       "    <tr>\n",
       "      <th>21300</th>\n",
       "      <td>2</td>\n",
       "      <td>1984.507589</td>\n",
       "      <td>40</td>\n",
       "      <td>secondary education</td>\n",
       "      <td>1</td>\n",
       "      <td>married</td>\n",
       "      <td>0</td>\n",
       "      <td>F</td>\n",
       "      <td>employee</td>\n",
       "      <td>0</td>\n",
       "      <td>13127.5870</td>\n",
       "      <td>to buy a car</td>\n",
       "      <td>adulto</td>\n",
       "    </tr>\n",
       "  </tbody>\n",
       "</table>\n",
       "<p>21289 rows × 13 columns</p>\n",
       "</div>"
      ],
      "text/plain": [
       "       children  days_employed  dob_years            education  education_id  \\\n",
       "12            0   19305.583127         65  secondary education             1   \n",
       "13            0    1846.641941         54         some college             2   \n",
       "14            0    1844.956182         56    bachelor's degree             0   \n",
       "15            1     972.364419         26  secondary education             1   \n",
       "16            0    1719.934226         35  secondary education             1   \n",
       "...         ...            ...        ...                  ...           ...   \n",
       "21296         1    4529.316663         43  secondary education             1   \n",
       "21297         0   19305.583127         67  secondary education             1   \n",
       "21298         1    2113.346888         38  secondary education             1   \n",
       "21299         3    3112.481705         38  secondary education             1   \n",
       "21300         2    1984.507589         40  secondary education             1   \n",
       "\n",
       "           family_status  family_status_id gender income_type  debt  \\\n",
       "12     civil partnership                 1      M     retiree     0   \n",
       "13               married                 0      F    employee     0   \n",
       "14     civil partnership                 1      F    business     1   \n",
       "15               married                 0      F    employee     0   \n",
       "16               married                 0      F    employee     0   \n",
       "...                  ...               ...    ...         ...   ...   \n",
       "21296  civil partnership                 1      F    business     0   \n",
       "21297            married                 0      F     retiree     0   \n",
       "21298  civil partnership                 1      M    employee     1   \n",
       "21299            married                 0      M    employee     1   \n",
       "21300            married                 0      F    employee     0   \n",
       "\n",
       "       total_income                       purpose   age_grouped  \n",
       "12       21310.9445             to have a wedding  adulto mayor  \n",
       "13       20873.3170                  car purchase  adulto mayor  \n",
       "14       26420.4660   buy residential real estate  adulto mayor  \n",
       "15       18691.3450  construction of own property         joven  \n",
       "16       46272.4330                      property        adulto  \n",
       "...             ...                           ...           ...  \n",
       "21296    35966.6980          housing transactions        adulto  \n",
       "21297    24959.9690             purchase of a car  adulto mayor  \n",
       "21298    14347.6100                      property        adulto  \n",
       "21299    39054.8880             buying my own car        adulto  \n",
       "21300    13127.5870                  to buy a car        adulto  \n",
       "\n",
       "[21289 rows x 13 columns]"
      ]
     },
     "execution_count": 246,
     "metadata": {},
     "output_type": "execute_result"
    }
   ],
   "source": [
    "df[12:]"
   ]
  },
  {
   "cell_type": "code",
   "execution_count": 247,
   "metadata": {},
   "outputs": [],
   "source": [
    "decimals = pd.Series([1, 0], index=[\"days_employed\", \"total_income\"])\n",
    "df = df.round(decimals)"
   ]
  },
  {
   "cell_type": "code",
   "execution_count": 248,
   "metadata": {
    "scrolled": false
   },
   "outputs": [
    {
     "data": {
      "text/html": [
       "<div>\n",
       "<style scoped>\n",
       "    .dataframe tbody tr th:only-of-type {\n",
       "        vertical-align: middle;\n",
       "    }\n",
       "\n",
       "    .dataframe tbody tr th {\n",
       "        vertical-align: top;\n",
       "    }\n",
       "\n",
       "    .dataframe thead th {\n",
       "        text-align: right;\n",
       "    }\n",
       "</style>\n",
       "<table border=\"1\" class=\"dataframe\">\n",
       "  <thead>\n",
       "    <tr style=\"text-align: right;\">\n",
       "      <th></th>\n",
       "      <th></th>\n",
       "      <th>children</th>\n",
       "      <th>days_employed</th>\n",
       "      <th>dob_years</th>\n",
       "      <th>education_id</th>\n",
       "      <th>family_status_id</th>\n",
       "      <th>debt</th>\n",
       "      <th>total_income</th>\n",
       "    </tr>\n",
       "    <tr>\n",
       "      <th>age_grouped</th>\n",
       "      <th>income_type</th>\n",
       "      <th></th>\n",
       "      <th></th>\n",
       "      <th></th>\n",
       "      <th></th>\n",
       "      <th></th>\n",
       "      <th></th>\n",
       "      <th></th>\n",
       "    </tr>\n",
       "  </thead>\n",
       "  <tbody>\n",
       "    <tr>\n",
       "      <th rowspan=\"6\" valign=\"top\">adulto</th>\n",
       "      <th>business</th>\n",
       "      <td>1973</td>\n",
       "      <td>6.958160e+06</td>\n",
       "      <td>123000</td>\n",
       "      <td>2170</td>\n",
       "      <td>2683</td>\n",
       "      <td>222</td>\n",
       "      <td>100233638.0</td>\n",
       "    </tr>\n",
       "    <tr>\n",
       "      <th>civil servant</th>\n",
       "      <td>656</td>\n",
       "      <td>3.058311e+06</td>\n",
       "      <td>35854</td>\n",
       "      <td>594</td>\n",
       "      <td>707</td>\n",
       "      <td>49</td>\n",
       "      <td>24715624.0</td>\n",
       "    </tr>\n",
       "    <tr>\n",
       "      <th>employee</th>\n",
       "      <td>4649</td>\n",
       "      <td>1.668391e+07</td>\n",
       "      <td>272395</td>\n",
       "      <td>5781</td>\n",
       "      <td>5667</td>\n",
       "      <td>657</td>\n",
       "      <td>176856304.0</td>\n",
       "    </tr>\n",
       "    <tr>\n",
       "      <th>paternity / maternity leave</th>\n",
       "      <td>2</td>\n",
       "      <td>3.296800e+03</td>\n",
       "      <td>39</td>\n",
       "      <td>1</td>\n",
       "      <td>0</td>\n",
       "      <td>1</td>\n",
       "      <td>8613.0</td>\n",
       "    </tr>\n",
       "    <tr>\n",
       "      <th>retiree</th>\n",
       "      <td>84</td>\n",
       "      <td>6.189512e+06</td>\n",
       "      <td>11024</td>\n",
       "      <td>217</td>\n",
       "      <td>192</td>\n",
       "      <td>19</td>\n",
       "      <td>6210946.0</td>\n",
       "    </tr>\n",
       "    <tr>\n",
       "      <th>unemployed</th>\n",
       "      <td>1</td>\n",
       "      <td>5.986000e+03</td>\n",
       "      <td>76</td>\n",
       "      <td>1</td>\n",
       "      <td>1</td>\n",
       "      <td>1</td>\n",
       "      <td>42029.0</td>\n",
       "    </tr>\n",
       "    <tr>\n",
       "      <th rowspan=\"5\" valign=\"top\">adulto mayor</th>\n",
       "      <th>business</th>\n",
       "      <td>138</td>\n",
       "      <td>4.307088e+06</td>\n",
       "      <td>49509</td>\n",
       "      <td>640</td>\n",
       "      <td>812</td>\n",
       "      <td>52</td>\n",
       "      <td>27630865.0</td>\n",
       "    </tr>\n",
       "    <tr>\n",
       "      <th>civil servant</th>\n",
       "      <td>31</td>\n",
       "      <td>1.812148e+06</td>\n",
       "      <td>15767</td>\n",
       "      <td>199</td>\n",
       "      <td>225</td>\n",
       "      <td>11</td>\n",
       "      <td>7406120.0</td>\n",
       "    </tr>\n",
       "    <tr>\n",
       "      <th>employee</th>\n",
       "      <td>308</td>\n",
       "      <td>9.365143e+06</td>\n",
       "      <td>107164</td>\n",
       "      <td>1675</td>\n",
       "      <td>1732</td>\n",
       "      <td>122</td>\n",
       "      <td>49714338.0</td>\n",
       "    </tr>\n",
       "    <tr>\n",
       "      <th>entrepreneur</th>\n",
       "      <td>0</td>\n",
       "      <td>1.930560e+04</td>\n",
       "      <td>58</td>\n",
       "      <td>0</td>\n",
       "      <td>0</td>\n",
       "      <td>0</td>\n",
       "      <td>21311.0</td>\n",
       "    </tr>\n",
       "    <tr>\n",
       "      <th>retiree</th>\n",
       "      <td>277</td>\n",
       "      <td>1.127627e+08</td>\n",
       "      <td>214866</td>\n",
       "      <td>3261</td>\n",
       "      <td>3544</td>\n",
       "      <td>196</td>\n",
       "      <td>77074735.0</td>\n",
       "    </tr>\n",
       "    <tr>\n",
       "      <th rowspan=\"6\" valign=\"top\">joven</th>\n",
       "      <th>business</th>\n",
       "      <td>539</td>\n",
       "      <td>1.332575e+06</td>\n",
       "      <td>28710</td>\n",
       "      <td>795</td>\n",
       "      <td>1692</td>\n",
       "      <td>98</td>\n",
       "      <td>31304837.0</td>\n",
       "    </tr>\n",
       "    <tr>\n",
       "      <th>civil servant</th>\n",
       "      <td>185</td>\n",
       "      <td>4.694752e+05</td>\n",
       "      <td>7562</td>\n",
       "      <td>184</td>\n",
       "      <td>303</td>\n",
       "      <td>26</td>\n",
       "      <td>6993197.0</td>\n",
       "    </tr>\n",
       "    <tr>\n",
       "      <th>employee</th>\n",
       "      <td>1403</td>\n",
       "      <td>2.939885e+06</td>\n",
       "      <td>61017</td>\n",
       "      <td>1885</td>\n",
       "      <td>3071</td>\n",
       "      <td>275</td>\n",
       "      <td>55380760.0</td>\n",
       "    </tr>\n",
       "    <tr>\n",
       "      <th>entrepreneur</th>\n",
       "      <td>0</td>\n",
       "      <td>5.208000e+02</td>\n",
       "      <td>27</td>\n",
       "      <td>0</td>\n",
       "      <td>1</td>\n",
       "      <td>0</td>\n",
       "      <td>79866.0</td>\n",
       "    </tr>\n",
       "    <tr>\n",
       "      <th>retiree</th>\n",
       "      <td>2</td>\n",
       "      <td>3.394893e+05</td>\n",
       "      <td>207</td>\n",
       "      <td>7</td>\n",
       "      <td>15</td>\n",
       "      <td>0</td>\n",
       "      <td>127246.0</td>\n",
       "    </tr>\n",
       "    <tr>\n",
       "      <th>student</th>\n",
       "      <td>0</td>\n",
       "      <td>5.788000e+02</td>\n",
       "      <td>22</td>\n",
       "      <td>0</td>\n",
       "      <td>4</td>\n",
       "      <td>0</td>\n",
       "      <td>15712.0</td>\n",
       "    </tr>\n",
       "  </tbody>\n",
       "</table>\n",
       "</div>"
      ],
      "text/plain": [
       "                                          children  days_employed  dob_years  \\\n",
       "age_grouped  income_type                                                       \n",
       "adulto       business                         1973   6.958160e+06     123000   \n",
       "             civil servant                     656   3.058311e+06      35854   \n",
       "             employee                         4649   1.668391e+07     272395   \n",
       "             paternity / maternity leave         2   3.296800e+03         39   \n",
       "             retiree                            84   6.189512e+06      11024   \n",
       "             unemployed                          1   5.986000e+03         76   \n",
       "adulto mayor business                          138   4.307088e+06      49509   \n",
       "             civil servant                      31   1.812148e+06      15767   \n",
       "             employee                          308   9.365143e+06     107164   \n",
       "             entrepreneur                        0   1.930560e+04         58   \n",
       "             retiree                           277   1.127627e+08     214866   \n",
       "joven        business                          539   1.332575e+06      28710   \n",
       "             civil servant                     185   4.694752e+05       7562   \n",
       "             employee                         1403   2.939885e+06      61017   \n",
       "             entrepreneur                        0   5.208000e+02         27   \n",
       "             retiree                             2   3.394893e+05        207   \n",
       "             student                             0   5.788000e+02         22   \n",
       "\n",
       "                                          education_id  family_status_id  \\\n",
       "age_grouped  income_type                                                   \n",
       "adulto       business                             2170              2683   \n",
       "             civil servant                         594               707   \n",
       "             employee                             5781              5667   \n",
       "             paternity / maternity leave             1                 0   \n",
       "             retiree                               217               192   \n",
       "             unemployed                              1                 1   \n",
       "adulto mayor business                              640               812   \n",
       "             civil servant                         199               225   \n",
       "             employee                             1675              1732   \n",
       "             entrepreneur                            0                 0   \n",
       "             retiree                              3261              3544   \n",
       "joven        business                              795              1692   \n",
       "             civil servant                         184               303   \n",
       "             employee                             1885              3071   \n",
       "             entrepreneur                            0                 1   \n",
       "             retiree                                 7                15   \n",
       "             student                                 0                 4   \n",
       "\n",
       "                                          debt  total_income  \n",
       "age_grouped  income_type                                      \n",
       "adulto       business                      222   100233638.0  \n",
       "             civil servant                  49    24715624.0  \n",
       "             employee                      657   176856304.0  \n",
       "             paternity / maternity leave     1        8613.0  \n",
       "             retiree                        19     6210946.0  \n",
       "             unemployed                      1       42029.0  \n",
       "adulto mayor business                       52    27630865.0  \n",
       "             civil servant                  11     7406120.0  \n",
       "             employee                      122    49714338.0  \n",
       "             entrepreneur                    0       21311.0  \n",
       "             retiree                       196    77074735.0  \n",
       "joven        business                       98    31304837.0  \n",
       "             civil servant                  26     6993197.0  \n",
       "             employee                      275    55380760.0  \n",
       "             entrepreneur                    0       79866.0  \n",
       "             retiree                         0      127246.0  \n",
       "             student                         0       15712.0  "
      ]
     },
     "execution_count": 248,
     "metadata": {},
     "output_type": "execute_result"
    }
   ],
   "source": [
    "# Aplicar la función al income_type\n",
    "df.groupby([\"age_grouped\", \"income_type\"]).sum()"
   ]
  },
  {
   "cell_type": "code",
   "execution_count": 249,
   "metadata": {},
   "outputs": [
    {
     "name": "stdout",
     "output_type": "stream",
     "text": [
      "children            0\n",
      "days_employed       0\n",
      "dob_years           0\n",
      "education           0\n",
      "education_id        0\n",
      "family_status       0\n",
      "family_status_id    0\n",
      "gender              0\n",
      "income_type         0\n",
      "debt                0\n",
      "total_income        0\n",
      "purpose             0\n",
      "age_grouped         0\n",
      "dtype: int64\n"
     ]
    }
   ],
   "source": [
    "# Comprueba las entradas en todas las columnas: asegúrate de que hayamos corregido todos los valores ausentes\n",
    "print(df.isna().sum())"
   ]
  },
  {
   "cell_type": "markdown",
   "metadata": {},
   "source": [
    "Se comprueban los datos y efectivamente cambiaron."
   ]
  },
  {
   "cell_type": "markdown",
   "metadata": {},
   "source": [
    "## Clasificación de datos\n"
   ]
  },
  {
   "cell_type": "code",
   "execution_count": 250,
   "metadata": {
    "scrolled": true
   },
   "outputs": [
    {
     "data": {
      "text/plain": [
       "age_grouped   debt\n",
       "adulto        0       10043\n",
       "              1         949\n",
       "adulto mayor  0        6263\n",
       "              1         381\n",
       "joven         0        3266\n",
       "              1         399\n",
       "Name: debt, dtype: int64"
      ]
     },
     "execution_count": 250,
     "metadata": {},
     "output_type": "execute_result"
    }
   ],
   "source": [
    "# Muestra los valores de los datos seleccionados para la clasificación\n",
    "df.groupby([\"age_grouped\"])[\"debt\"].value_counts()\n"
   ]
  },
  {
   "cell_type": "code",
   "execution_count": 251,
   "metadata": {},
   "outputs": [
    {
     "name": "stdout",
     "output_type": "stream",
     "text": [
      "wedding ceremony                            784\n",
      "having a wedding                            763\n",
      "to have a wedding                           760\n",
      "real estate transactions                    672\n",
      "buy commercial real estate                  657\n",
      "transactions with commercial real estate    648\n",
      "buying property for renting out             647\n",
      "housing transactions                        643\n",
      "purchase of the house                       637\n",
      "purchase of the house for my family         636\n",
      "housing                                     634\n",
      "construction of own property                633\n",
      "property                                    628\n",
      "transactions with my real estate            626\n",
      "building a property                         619\n",
      "building a real estate                      619\n",
      "purchase of my own house                    618\n",
      "buy real estate                             617\n",
      "housing renovation                          601\n",
      "buy residential real estate                 600\n",
      "buying my own car                           499\n",
      "going to university                         493\n",
      "car                                         489\n",
      "second-hand car purchase                    483\n",
      "buying a second-hand car                    477\n",
      "cars                                        476\n",
      "to own a car                                473\n",
      "to buy a car                                464\n",
      "car purchase                                459\n",
      "supplementary education                     458\n",
      "purchase of a car                           452\n",
      "university education                        449\n",
      "education                                   444\n",
      "to get a supplementary education            442\n",
      "getting an education                        438\n",
      "profile education                           434\n",
      "getting higher education                    422\n",
      "to become educated                          407\n",
      "Name: purpose, dtype: int64\n"
     ]
    }
   ],
   "source": [
    "print(df[\"purpose\"].value_counts())"
   ]
  },
  {
   "cell_type": "code",
   "execution_count": 252,
   "metadata": {},
   "outputs": [],
   "source": [
    "def purpose_fix(row):\n",
    "    purpose = row['purpose']\n",
    "    if 'car' in purpose:\n",
    "        return 'credito automotriz'\n",
    "    elif 'cars' in purpose:\n",
    "        return 'credito automotriz'\n",
    "    elif \"wedding\" in purpose:\n",
    "        return 'credito de consumo'\n",
    "    elif 'housing' in purpose:\n",
    "        return 'credito de consumo'\n",
    "    elif \"education\" in purpose:\n",
    "        return 'credito de educacion superior'\n",
    "    elif \"university\" in purpose:\n",
    "        return 'credito de educacion superior'\n",
    "    elif \"educated\" in purpose:\n",
    "        return 'credito de educacion superior'\n",
    "    else:\n",
    "        return'credito hipotecario'\n",
    "    "
   ]
  },
  {
   "cell_type": "code",
   "execution_count": 253,
   "metadata": {},
   "outputs": [],
   "source": [
    "df['purpose_fixed'] = df.apply(purpose_fix, axis=1)"
   ]
  },
  {
   "cell_type": "code",
   "execution_count": 254,
   "metadata": {},
   "outputs": [
    {
     "name": "stdout",
     "output_type": "stream",
     "text": [
      "credito hipotecario              8857\n",
      "credito automotriz               4272\n",
      "credito de consumo               4185\n",
      "credito de educacion superior    3987\n",
      "Name: purpose_fixed, dtype: int64\n"
     ]
    }
   ],
   "source": [
    "# Comprobar los valores únicos\n",
    "print(df['purpose_fixed'].value_counts())"
   ]
  },
  {
   "cell_type": "code",
   "execution_count": 255,
   "metadata": {},
   "outputs": [
    {
     "name": "stdout",
     "output_type": "stream",
     "text": [
      "0                  credito hipotecario\n",
      "1                   credito automotriz\n",
      "2                  credito hipotecario\n",
      "3        credito de educacion superior\n",
      "4                   credito de consumo\n",
      "                     ...              \n",
      "21296               credito de consumo\n",
      "21297               credito automotriz\n",
      "21298              credito hipotecario\n",
      "21299               credito automotriz\n",
      "21300               credito automotriz\n",
      "Name: purpose_fixed, Length: 21301, dtype: object\n"
     ]
    }
   ],
   "source": [
    "print(df['purpose_fixed'])"
   ]
  },
  {
   "cell_type": "markdown",
   "metadata": {},
   "source": [
    "Se clasifican los datos con una nueva columna definiendo el proposito según credito."
   ]
  },
  {
   "cell_type": "code",
   "execution_count": 256,
   "metadata": {},
   "outputs": [
    {
     "name": "stdout",
     "output_type": "stream",
     "text": [
      "       children  days_employed  dob_years            education  education_id  \\\n",
      "0             1         8437.7         42    bachelor's degree             0   \n",
      "1             1         4024.8         36  secondary education             1   \n",
      "2             0         5623.4         33  secondary education             1   \n",
      "3             3         4124.7         32  secondary education             1   \n",
      "4             0        19305.6         53  secondary education             1   \n",
      "...         ...            ...        ...                  ...           ...   \n",
      "21294         0        19305.6         59  secondary education             1   \n",
      "21295         1         2351.4         37      graduate degree             4   \n",
      "21296         1         4529.3         43  secondary education             1   \n",
      "21297         0        19305.6         67  secondary education             1   \n",
      "21300         2         1984.5         40  secondary education             1   \n",
      "\n",
      "           family_status  family_status_id gender income_type  debt  \\\n",
      "0                married                 0      F    employee     0   \n",
      "1                married                 0      F    employee     0   \n",
      "2                married                 0      M    employee     0   \n",
      "3                married                 0      M    employee     0   \n",
      "4      civil partnership                 1      F     retiree     0   \n",
      "...                  ...               ...    ...         ...   ...   \n",
      "21294            married                 0      F     retiree     0   \n",
      "21295           divorced                 3      M    employee     0   \n",
      "21296  civil partnership                 1      F    business     0   \n",
      "21297            married                 0      F     retiree     0   \n",
      "21300            married                 0      F    employee     0   \n",
      "\n",
      "       total_income                     purpose   age_grouped  \\\n",
      "0           40620.0       purchase of the house        adulto   \n",
      "1           17933.0                car purchase        adulto   \n",
      "2           23342.0       purchase of the house        adulto   \n",
      "3           42821.0     supplementary education        adulto   \n",
      "4           25379.0           to have a wedding  adulto mayor   \n",
      "...             ...                         ...           ...   \n",
      "21294       24618.0           purchase of a car  adulto mayor   \n",
      "21295       18552.0  buy commercial real estate        adulto   \n",
      "21296       35967.0        housing transactions        adulto   \n",
      "21297       24960.0           purchase of a car  adulto mayor   \n",
      "21300       13128.0                to buy a car        adulto   \n",
      "\n",
      "                       purpose_fixed  \n",
      "0                credito hipotecario  \n",
      "1                 credito automotriz  \n",
      "2                credito hipotecario  \n",
      "3      credito de educacion superior  \n",
      "4                 credito de consumo  \n",
      "...                              ...  \n",
      "21294             credito automotriz  \n",
      "21295            credito hipotecario  \n",
      "21296             credito de consumo  \n",
      "21297             credito automotriz  \n",
      "21300             credito automotriz  \n",
      "\n",
      "[19572 rows x 14 columns]\n"
     ]
    }
   ],
   "source": [
    "df_mask0=df['debt']==0\n",
    "filtered_df0 = df[df_mask0]\n",
    "print(filtered_df0)"
   ]
  },
  {
   "cell_type": "code",
   "execution_count": 257,
   "metadata": {},
   "outputs": [
    {
     "name": "stdout",
     "output_type": "stream",
     "text": [
      "       children  days_employed  dob_years            education  education_id  \\\n",
      "14            0         1845.0         56    bachelor's degree             0   \n",
      "32            0         4649.9         34  secondary education             1   \n",
      "38            0          597.9         25    bachelor's degree             0   \n",
      "54            0        19305.6         54  secondary education             1   \n",
      "74            1         2953.2         38  secondary education             1   \n",
      "...         ...            ...        ...                  ...           ...   \n",
      "21270         0          960.1         39  secondary education             1   \n",
      "21287         0          612.6         29    bachelor's degree             0   \n",
      "21291         1          467.7         28  secondary education             1   \n",
      "21298         1         2113.3         38  secondary education             1   \n",
      "21299         3         3112.5         38  secondary education             1   \n",
      "\n",
      "           family_status  family_status_id gender income_type  debt  \\\n",
      "14     civil partnership                 1      F    business     1   \n",
      "32     civil partnership                 1      F    employee     1   \n",
      "38             unmarried                 4      M    employee     1   \n",
      "54     civil partnership                 1      F     retiree     1   \n",
      "74               married                 0      M    employee     1   \n",
      "...                  ...               ...    ...         ...   ...   \n",
      "21270  civil partnership                 1      M    business     1   \n",
      "21287  civil partnership                 1      F    employee     1   \n",
      "21291            married                 0      F    employee     1   \n",
      "21298  civil partnership                 1      M    employee     1   \n",
      "21299            married                 0      M    employee     1   \n",
      "\n",
      "       total_income                          purpose   age_grouped  \\\n",
      "14          26420.0      buy residential real estate  adulto mayor   \n",
      "32          22249.0                 having a wedding        adulto   \n",
      "38          30760.0                        education         joven   \n",
      "54          21311.0                to have a wedding  adulto mayor   \n",
      "74          13110.0         real estate transactions        adulto   \n",
      "...             ...                              ...           ...   \n",
      "21270       28219.0          supplementary education        adulto   \n",
      "21287       22411.0  buying property for renting out         joven   \n",
      "21291       17518.0               to become educated         joven   \n",
      "21298       14348.0                         property        adulto   \n",
      "21299       39055.0                buying my own car        adulto   \n",
      "\n",
      "                       purpose_fixed  \n",
      "14               credito hipotecario  \n",
      "32                credito de consumo  \n",
      "38     credito de educacion superior  \n",
      "54                credito de consumo  \n",
      "74               credito hipotecario  \n",
      "...                              ...  \n",
      "21270  credito de educacion superior  \n",
      "21287            credito hipotecario  \n",
      "21291  credito de educacion superior  \n",
      "21298            credito hipotecario  \n",
      "21299             credito automotriz  \n",
      "\n",
      "[1729 rows x 14 columns]\n"
     ]
    }
   ],
   "source": [
    "df_mask=df['debt']==1\n",
    "filtered_df = df[df_mask]\n",
    "print(filtered_df)"
   ]
  },
  {
   "cell_type": "markdown",
   "metadata": {},
   "source": [
    "age_grouped y purpose, muestran los datos de personas que deben y no, y al mismo tiempo el rango de clientes que tienden a solicitar credito.\n",
    "\n",
    "Según estos temas, probablemente querremos clasificar nuestros datos."
   ]
  },
  {
   "cell_type": "code",
   "execution_count": 258,
   "metadata": {},
   "outputs": [
    {
     "data": {
      "text/plain": [
       "age_grouped   purpose_fixed                \n",
       "adulto        credito automotriz               2238\n",
       "              credito de consumo               2172\n",
       "              credito de educacion superior    2008\n",
       "              credito hipotecario              4574\n",
       "adulto mayor  credito automotriz               1360\n",
       "              credito de consumo               1274\n",
       "              credito de educacion superior    1268\n",
       "              credito hipotecario              2742\n",
       "joven         credito automotriz                674\n",
       "              credito de consumo                739\n",
       "              credito de educacion superior     711\n",
       "              credito hipotecario              1541\n",
       "Name: debt, dtype: int64"
      ]
     },
     "execution_count": 258,
     "metadata": {},
     "output_type": "execute_result"
    }
   ],
   "source": [
    "df.groupby([\"age_grouped\", 'purpose_fixed'])[\"debt\"].count()"
   ]
  },
  {
   "cell_type": "markdown",
   "metadata": {},
   "source": [
    " Personas con proposito que deben y no deben en general"
   ]
  },
  {
   "cell_type": "code",
   "execution_count": 282,
   "metadata": {},
   "outputs": [
    {
     "data": {
      "text/plain": [
       "purpose_fixed                  children\n",
       "credito automotriz             0           241\n",
       "                               1           102\n",
       "                               2            50\n",
       "                               3             5\n",
       "                               4             1\n",
       "credito de consumo             0           196\n",
       "                               1            76\n",
       "                               2            31\n",
       "                               3             7\n",
       "                               4             1\n",
       "credito de educacion superior  0           229\n",
       "                               1            90\n",
       "                               2            47\n",
       "                               3             4\n",
       "credito hipotecario            0           389\n",
       "                               1           173\n",
       "                               2            74\n",
       "                               3            11\n",
       "                               4             2\n",
       "Name: debt, dtype: int64"
      ]
     },
     "execution_count": 282,
     "metadata": {},
     "output_type": "execute_result"
    }
   ],
   "source": [
    "filtered_df.groupby(['purpose_fixed',\"children\"])[\"debt\"].count()"
   ]
  },
  {
   "cell_type": "markdown",
   "metadata": {},
   "source": [
    "Personas con proposito que deben, tienen y no hijos. Por primera impreción se percibe que los clientes sin hijos son los que deben mayormente, haciendoce de forma gradual según la cantidad de hijos. Es decir que mientras más hijos, menos tienen deudas."
   ]
  },
  {
   "cell_type": "markdown",
   "metadata": {},
   "source": [
    "## Comprobación de las hipótesis\n"
   ]
  },
  {
   "cell_type": "markdown",
   "metadata": {},
   "source": [
    "**¿Existe una correlación entre tener hijos y pagar a tiempo?**"
   ]
  },
  {
   "cell_type": "markdown",
   "metadata": {},
   "source": [
    "Total de clientes."
   ]
  },
  {
   "cell_type": "code",
   "execution_count": 260,
   "metadata": {},
   "outputs": [
    {
     "data": {
      "text/plain": [
       "children\n",
       "0    13981\n",
       "1     4829\n",
       "2     2113\n",
       "3      328\n",
       "4       41\n",
       "5        9\n",
       "Name: debt, dtype: int64"
      ]
     },
     "execution_count": 260,
     "metadata": {},
     "output_type": "execute_result"
    }
   ],
   "source": [
    "df.groupby([\"children\"])[\"debt\"].count()"
   ]
  },
  {
   "cell_type": "code",
   "execution_count": 261,
   "metadata": {},
   "outputs": [],
   "source": [
    "t = df.groupby([\"children\"])[\"debt\"].count()"
   ]
  },
  {
   "cell_type": "markdown",
   "metadata": {},
   "source": [
    "Clientes con y sin hijos que deben"
   ]
  },
  {
   "cell_type": "code",
   "execution_count": 262,
   "metadata": {},
   "outputs": [
    {
     "data": {
      "text/plain": [
       "children\n",
       "0    1055\n",
       "1     441\n",
       "2     202\n",
       "3      27\n",
       "4       4\n",
       "Name: debt, dtype: int64"
      ]
     },
     "execution_count": 262,
     "metadata": {},
     "output_type": "execute_result"
    }
   ],
   "source": [
    "filtered_df.groupby([\"children\"])[\"debt\"].count()"
   ]
  },
  {
   "cell_type": "code",
   "execution_count": 263,
   "metadata": {},
   "outputs": [],
   "source": [
    "cd = filtered_df.groupby([\"children\"])[\"debt\"].count()"
   ]
  },
  {
   "cell_type": "code",
   "execution_count": 264,
   "metadata": {},
   "outputs": [],
   "source": [
    "hijos = cd / t"
   ]
  },
  {
   "cell_type": "code",
   "execution_count": 265,
   "metadata": {},
   "outputs": [
    {
     "name": "stdout",
     "output_type": "stream",
     "text": [
      "Para la cantidad de hijos: 0, la tasa de incumplimiento es 7.55%\n",
      "Para la cantidad de hijos: 1, la tasa de incumplimiento es 9.13%\n",
      "Para la cantidad de hijos: 2, la tasa de incumplimiento es 9.56%\n",
      "Para la cantidad de hijos: 3, la tasa de incumplimiento es 8.23%\n",
      "Para la cantidad de hijos: 4, la tasa de incumplimiento es 9.76%\n",
      "Para la cantidad de hijos: 5, no hay datos disponibles\n"
     ]
    }
   ],
   "source": [
    "for item in hijos.items():\n",
    "    tasa = item[1] * 100\n",
    "    if not math.isnan(tasa):\n",
    "        tasa = round(tasa, 2)\n",
    "        print(f\"Para la cantidad de hijos: {item[0]}, la tasa de incumplimiento es {tasa}%\")\n",
    "    else:\n",
    "        print(f\"Para la cantidad de hijos: {item[0]}, no hay datos disponibles\")"
   ]
  },
  {
   "cell_type": "markdown",
   "metadata": {},
   "source": [
    "**Conclusión**\n",
    "\n",
    "Basándome en estos datos, podría concluir que la tasa de incumplimiento de pagos de los préstamos otorgados varía en función de la cantidad de hijos que tiene el solicitante. En particular, se observa que la tasa de incumplimiento es más alta para aquellos que tienen 2 o 4 hijos. Por otro lado, aquellos con 0, 1 o 3 hijos tienen tasas de incumplimiento más bajas.\n",
    "\n",
    "Estos datos podrían ser útiles para tomar decisiones sobre el otorgamiento de préstamos, ya que podría considerarse la cantidad de hijos del solicitante como un factor a tener en cuenta al evaluar la solvencia y la capacidad de pago del mismo. Además, estos datos podrían ser utilizados para desarrollar estrategias de gestión de riesgo y para ajustar las tasas de interés y/o los plazos de pago en función del riesgo percibido.\n"
   ]
  },
  {
   "cell_type": "markdown",
   "metadata": {},
   "source": [
    "**¿Existe una correlación entre la situación familiar y el pago a tiempo?**"
   ]
  },
  {
   "cell_type": "code",
   "execution_count": 266,
   "metadata": {},
   "outputs": [],
   "source": [
    "# Comprueba los datos del estado familiar y los pagos a tiempo\n",
    "tf = df.groupby([\"family_status\"])[\"debt\"].count()\n",
    "# Calcular la tasa de incumplimiento basada en el estado familiar\n",
    "\n"
   ]
  },
  {
   "cell_type": "code",
   "execution_count": 267,
   "metadata": {},
   "outputs": [],
   "source": [
    "debf= filtered_df.groupby([\"family_status\"])[\"debt\"].count()"
   ]
  },
  {
   "cell_type": "code",
   "execution_count": 268,
   "metadata": {},
   "outputs": [],
   "source": [
    "family = debf / tf"
   ]
  },
  {
   "cell_type": "code",
   "execution_count": 269,
   "metadata": {},
   "outputs": [
    {
     "name": "stdout",
     "output_type": "stream",
     "text": [
      "Para la cantidad de clientes: civil partnership, incumple el 9.35%\n",
      "Para la cantidad de clientes: divorced, incumple el 7.18%\n",
      "Para la cantidad de clientes: married, incumple el 7.53%\n",
      "Para la cantidad de clientes: unmarried, incumple el 9.83%\n",
      "Para la cantidad de clientes: widow / widower, incumple el 6.5%\n"
     ]
    }
   ],
   "source": [
    "for item in family.items():\n",
    "    tasa = item[1] * 100\n",
    "    if not math.isnan(tasa):\n",
    "        tasa = round(tasa, 2)\n",
    "        print(f\"Para la cantidad de clientes: {item[0]}, incumple el {tasa}%\")\n",
    "    else:\n",
    "        print(f\"Para la cantidad de clientes: {item[0]}, no hay datos disponibles\")"
   ]
  },
  {
   "cell_type": "markdown",
   "metadata": {},
   "source": [
    "**Conclusión**\n",
    "\n",
    "Podría concluir que el estado civil del solicitante del préstamo es un factor que influye en la tasa de incumplimiento de los préstamos. En particular, se observa que los clientes solteros tienen la tasa de incumplimiento más alta, seguidos de los clientes en uniones civiles. Por otro lado, los clientes divorciados, casados y viudos tienen tasas de incumplimiento más bajas.\n",
    "\n",
    "Estos datos podrían ser útiles para tomar decisiones sobre el otorgamiento de préstamos, ya que podría considerarse el estado civil del solicitante como un factor a tener en cuenta al evaluar la solvencia y la capacidad de pago del mismo."
   ]
  },
  {
   "cell_type": "markdown",
   "metadata": {},
   "source": [
    "**¿Existe una correlación entre el nivel de ingresos y el pago a tiempo?**"
   ]
  },
  {
   "cell_type": "code",
   "execution_count": 270,
   "metadata": {},
   "outputs": [
    {
     "data": {
      "text/plain": [
       "24712.0    86\n",
       "21311.0    47\n",
       "23025.0    37\n",
       "15150.0     3\n",
       "19825.0     2\n",
       "Name: total_income, dtype: int64"
      ]
     },
     "execution_count": 270,
     "metadata": {},
     "output_type": "execute_result"
    }
   ],
   "source": [
    "filtered_df[\"total_income\"].value_counts().head(5)"
   ]
  },
  {
   "cell_type": "markdown",
   "metadata": {},
   "source": [
    "Clientes con este rango de sueldos que deben."
   ]
  },
  {
   "cell_type": "code",
   "execution_count": 271,
   "metadata": {},
   "outputs": [
    {
     "data": {
      "text/plain": [
       "24712.0    1071\n",
       "21311.0     676\n",
       "23025.0     347\n",
       "23870.0       5\n",
       "17856.0       5\n",
       "Name: total_income, dtype: int64"
      ]
     },
     "execution_count": 271,
     "metadata": {},
     "output_type": "execute_result"
    }
   ],
   "source": [
    "df[\"total_income\"].value_counts().head(5)"
   ]
  },
  {
   "cell_type": "markdown",
   "metadata": {},
   "source": [
    "Total de clientes con este rango de sueldos."
   ]
  },
  {
   "cell_type": "code",
   "execution_count": 272,
   "metadata": {},
   "outputs": [],
   "source": [
    "filtt = filtered_df[\"total_income\"].value_counts().head(5)"
   ]
  },
  {
   "cell_type": "code",
   "execution_count": 273,
   "metadata": {},
   "outputs": [],
   "source": [
    "# Comprueba los datos del nivel de ingresos y los pagos a tiempo\n",
    "dftt = df[\"total_income\"].value_counts().head(5)"
   ]
  },
  {
   "cell_type": "code",
   "execution_count": 274,
   "metadata": {},
   "outputs": [],
   "source": [
    "tt = filtt / dftt"
   ]
  },
  {
   "cell_type": "code",
   "execution_count": 275,
   "metadata": {},
   "outputs": [
    {
     "name": "stdout",
     "output_type": "stream",
     "text": [
      "Ingresos totales de clientes que acumulan deuda: 21311.0, incumple el 6.95%\n",
      "Ingresos totales de clientes que acumulan deuda: 23025.0, incumple el 10.66%\n",
      "Ingresos totales de clientes que acumulan deuda: 24712.0, incumple el 8.03%\n"
     ]
    }
   ],
   "source": [
    "for item in tt.items():\n",
    "    tasa = item[1] * 100\n",
    "    if not math.isnan(tasa):\n",
    "        tasa = round(tasa, 2)\n",
    "        print(f\"Ingresos totales de clientes que acumulan deuda: {item[0]}, incumple el {tasa}%\")"
   ]
  },
  {
   "cell_type": "markdown",
   "metadata": {},
   "source": [
    "**Conclusión**\n",
    "\n",
    "Según los datos, los clientes con ingresos totales de 21311.0 tienen una tasa de incumplimiento del 6.95%, lo cual es un porcentaje relativamente bajo en comparación con otros ingresos totales. Por otro lado, los clientes con ingresos totales de 22955.0 tienen una tasa de incumplimiento del 10.76%, lo que indica un mayor riesgo para el banco al prestarles dinero. Por último, los clientes con ingresos totales de 24712.0 tienen una tasa de incumplimiento del 8.03%, lo que sugiere que estos clientes presentan un riesgo moderado para el banco."
   ]
  },
  {
   "cell_type": "markdown",
   "metadata": {},
   "source": [
    "**¿Cómo afecta el propósito del crédito a la tasa de incumplimiento?**"
   ]
  },
  {
   "cell_type": "code",
   "execution_count": 276,
   "metadata": {},
   "outputs": [],
   "source": [
    "# Consulta los porcentajes de tasa de incumplimiento para cada propósito del crédito y analízalos\n",
    "purs_deb = filtered_df.groupby([\"purpose_fixed\"])[\"debt\"].count()\n"
   ]
  },
  {
   "cell_type": "code",
   "execution_count": 277,
   "metadata": {},
   "outputs": [],
   "source": [
    "total_purs = df.groupby([\"purpose_fixed\"])[\"debt\"].count()"
   ]
  },
  {
   "cell_type": "code",
   "execution_count": 278,
   "metadata": {},
   "outputs": [],
   "source": [
    "purs = purs_deb / total_purs"
   ]
  },
  {
   "cell_type": "code",
   "execution_count": 279,
   "metadata": {},
   "outputs": [
    {
     "name": "stdout",
     "output_type": "stream",
     "text": [
      "Cliente: credito automotriz, incumple el 9.34%\n",
      "Cliente: credito de consumo, incumple el 7.43%\n",
      "Cliente: credito de educacion superior, incumple el 9.28%\n",
      "Cliente: credito hipotecario, incumple el 7.33%\n"
     ]
    }
   ],
   "source": [
    "for item in purs.items():\n",
    "    tasa = item[1] * 100\n",
    "    if not math.isnan(tasa):\n",
    "        tasa = round(tasa, 2)\n",
    "        print(f\"Cliente: {item[0]}, incumple el {tasa}%\")\n",
    "    else:\n",
    "        print(f\"Para la cantidad de clientes: {item[0]}, no hay datos disponibles\")"
   ]
  },
  {
   "cell_type": "markdown",
   "metadata": {},
   "source": [
    "**Conclusión**\n",
    "\n",
    "Basándome únicamente en la información proporcionada, parece que la tasa de incumplimiento para préstamos de consumo e hipotecarios es relativamente baja en comparación con los préstamos para educación superior y automóviles. Esto podría ser una señal de que los clientes que solicitan préstamos para consumo e hipotecarios son financieramente más estables o tienen una mejor capacidad de pago que los que solicitan préstamos para educación y automóviles.\n"
   ]
  },
  {
   "cell_type": "markdown",
   "metadata": {},
   "source": [
    "# Conclusión general \n",
    "\n",
    "Después de analizar los datos, puedo concluir que la tasa de incumplimiento de los préstamos otorgados varía en función de diferentes factores, como la cantidad de hijos, el estado civil y los ingresos totales de los solicitantes. Es importante considerar estos factores al evaluar la solvencia y la capacidad de pago de los clientes al otorgar préstamos.\n",
    "\n",
    "En particular, se observa que los clientes con 2 o 4 hijos tienen tasas de incumplimiento más altas que aquellos con 0, 1 o 3 hijos. Los clientes solteros y en uniones civiles también presentan tasas de incumplimiento más altas que los clientes divorciados, casados y viudos.\n",
    "\n",
    "Además, se observa que los clientes con ingresos totales de 22955.0 presentan un mayor riesgo de incumplimiento en comparación con los clientes con ingresos de 21311.0 y 24712.0. Los préstamos para educación superior y automóviles tienen tasas de incumplimiento más altas en comparación con los préstamos de consumo e hipotecarios.\n",
    "\n",
    "En general, es importante tener en cuenta estos factores al evaluar la solvencia y la capacidad de pago de los clientes al otorgar préstamos. Se pueden desarrollar estrategias de gestión de riesgo y ajustar las tasas de interés y los plazos de pago en función del riesgo percibido para garantizar la rentabilidad y estabilidad del banco."
   ]
  }
 ],
 "metadata": {
  "ExecuteTimeLog": [
   {
    "duration": 2741,
    "start_time": "2021-10-21T01:08:49.480Z"
   },
   {
    "duration": 52,
    "start_time": "2021-10-21T01:08:53.315Z"
   },
   {
    "duration": 49,
    "start_time": "2021-10-21T01:08:57.432Z"
   },
   {
    "duration": 70,
    "start_time": "2021-10-21T01:09:07.706Z"
   }
  ],
  "kernelspec": {
   "display_name": "Python 3 (ipykernel)",
   "language": "python",
   "name": "python3"
  },
  "language_info": {
   "codemirror_mode": {
    "name": "ipython",
    "version": 3
   },
   "file_extension": ".py",
   "mimetype": "text/x-python",
   "name": "python",
   "nbconvert_exporter": "python",
   "pygments_lexer": "ipython3",
   "version": "3.9.5"
  },
  "toc": {
   "base_numbering": 1,
   "nav_menu": {},
   "number_sections": true,
   "sideBar": true,
   "skip_h1_title": true,
   "title_cell": "Table of Contents",
   "title_sidebar": "Contents",
   "toc_cell": false,
   "toc_position": {},
   "toc_section_display": true,
   "toc_window_display": false
  }
 },
 "nbformat": 4,
 "nbformat_minor": 2
}
